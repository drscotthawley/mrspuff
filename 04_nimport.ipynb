{
 "cells": [
  {
   "cell_type": "code",
   "execution_count": null,
   "metadata": {},
   "outputs": [],
   "source": [
    "# default_exp nimport"
   ]
  },
  {
   "cell_type": "markdown",
   "metadata": {},
   "source": [
    "# nimport\n",
    "\n",
    "> \"Nice Import\": Calls `pip install` if `import` fails, then re-tries the import  \n",
    "\n",
    "The motivation behind this was twofold:\n",
    "1. \"Module not found\" errors are annoying. \n",
    "2. It seems wasteful to install lots of dependencies that may never get called. \n",
    "\n",
    "## Remarks: \n",
    "Only useful for standalone packages: Does not install dependencies.\n",
    "If *everybody's code* used this routine for imports, then it could work great!  \n",
    "But since they don't, and won't \"because security,\"...it won't work as intended.\n",
    "(And since 'import' is a statement rather than a method, you can't just override it...\n",
    "   ...well, you could override `__import__()`, but... that has its own issues.)\n",
    "\n",
    " To handle dependencies, you *could* do a loop running `pipreqs` to scan after  each install, but... yikes that'd be slow. Not gonna.  \n",
    "\n",
    " And none of this works with Anaconda either.  (But I've grown to hate Anaconda anyway.)"
   ]
  },
  {
   "cell_type": "code",
   "execution_count": null,
   "metadata": {},
   "outputs": [],
   "source": [
    "#hide\n",
    "from nbdev.showdoc import *"
   ]
  },
  {
   "cell_type": "code",
   "execution_count": null,
   "metadata": {},
   "outputs": [],
   "source": [
    "#export \n",
    "import importlib, sys, subprocess, re\n",
    "\n",
    "def nimport(import_str:str, consent:str='yes', verbosity:int=1, versions:str=''):\n",
    "    \"\"\"\n",
    "    Nice Import: Gracefully import, i.e. if import fails, install via pip & retry\n",
    "\n",
    "    args:\n",
    "        import_str: A string form of the import statement you would otherwise execute\n",
    "\n",
    "    kwargs:\n",
    "        consent:    TODO: Let people say if they want to allow the install  ['yes','no','ask']\n",
    "        verbosity:  How much logging to print: 0=silent+errors, 1=installs, 2=everything\n",
    "        versions:   TODO: this would allow specific package versions to be specified\n",
    "\n",
    "    This supports these possible syntaxes for import_str:\n",
    "\n",
    "        from:   'from kora.selenium import wd'    \n",
    "        from-star:   'from fastai.vision.all import *'\n",
    "            TODO:  from-list and/or sub-sub-modules: 'from x.y.z import a, b, c' - unsupported for now\n",
    "        as:     'import numpy as np' \n",
    "        list:   'import bokeh, mrspuff as msp, torch'    (include a 1-element list)\n",
    " \n",
    "    ISSUES:\n",
    "        Some pip package names don't match their 'import' name. nimport won't handle that\n",
    "            Example: BeautifulSoup: package is beautifulsoup4, import is bs4 \n",
    "\n",
    "        Oh...and: This only pip-installs the named package, not any additional \n",
    "            packages it depends on. womp womp!\n",
    "\n",
    "    Author: Scott H. Hawley\n",
    "    \"\"\"\n",
    "    package, module, method, as_name = None, None, None, None\n",
    "\n",
    "    # from-style import\n",
    "    if 'from' in import_str:\n",
    " \n",
    "        m = re.search('from (.+?) import', import_str)  # from package.module import method\n",
    "        if m:\n",
    "            module = m.group(1)                # The module we're importing from\n",
    "            package = module.split('.')[0]     # The package we may need to install\n",
    "            method = import_str.split('import ')[1]\n",
    "            as_name = method\n",
    "            if ' as ' in import_str: \n",
    "                as_name = import_str.split('as ')[1]\n",
    "            \n",
    "            if verbosity > 1: \n",
    "                    print(f\"Package: {package}\\nModule: {module}\\nMethod: {method}\\nas_name: {as_name}\")\n",
    "\n",
    "            try:\n",
    "                if verbosity>1: print(f\"Importing {module} as {as_name}\")\n",
    "                globals()[as_name] = importlib.import_module(module)\n",
    "            except:\n",
    "                if verbosity>0: print(f\"  Import {module} failed. Trying to install {package} via pip\")\n",
    "                rc = subprocess.check_call([sys.executable, \"-m\", \"pip\", \"install\", package])\n",
    "                if 0==rc:                                \n",
    "                    if verbosity>0: print(f\"     pip succeeded. Re-importing {module} as {as_name}\")\n",
    "\n",
    "                    if '*' != method:               # typical, non-star import \n",
    "                        globals()[as_name] = importlib.import_module(module)\n",
    "                    else:\n",
    "                        # loop to add *'d items to global namespace             \n",
    "                        # following 10 lines from https://stackoverflow.com/a/43059528\n",
    "                        mdl = importlib.import_module(module)   \n",
    "                        \n",
    "                        if \"__all__\" in mdl.__dict__:   # is there an __all__? if so use it\n",
    "                            names = mdl.__dict__[\"__all__\"]\n",
    "                        else:\n",
    "                            # otherwise import all names that don't begin with _\n",
    "                            names = [x for x in mdl.__dict__ if not x.startswith(\"_\")]\n",
    "\n",
    "                        # add them to the global namespace\n",
    "                        globals().update({k: getattr(mdl, k) for k in names})\n",
    "                else:\n",
    "                    assert False, f\"ImportError: Unable to import {module}\"\n",
    "\n",
    "    # no 'from'\n",
    "    else:       # generic imports, including in list form. supports \"as\" syntax\n",
    "        package_list = import_str.replace(', ' , ',')       # strip spaces\n",
    "        package_list = package_list.split('import ')[1].split(',')  # grab the list of packages\n",
    "        if verbosity>1: print(f\"package_list = {package_list}\")\n",
    "        for package in package_list:\n",
    "            as_name = package\n",
    "            if ' as ' in package: \n",
    "                package, as_name = package.split(' as ')\n",
    "            try:\n",
    "                if verbosity>1: print(f\"Importing {package} as {as_name}\")\n",
    "                globals()[as_name] = importlib.import_module(package)  # try to import\n",
    "            except:\n",
    "                if verbosity>0: print(f\"   Import {package} failed. Trying to install via pip\")\n",
    "                rc = subprocess.check_call([sys.executable, \"-m\", \"pip\", \"install\", package])\n",
    "                if 0==rc:                                \n",
    "                    if verbosity>0: print(f\"     pip succeeded. Re-importing {package} as {as_name}\")\n",
    "                    globals()[as_name] = importlib.import_module(package) \n",
    "\n",
    "    return"
   ]
  },
  {
   "cell_type": "markdown",
   "metadata": {},
   "source": [
    "## Tests"
   ]
  },
  {
   "cell_type": "code",
   "execution_count": null,
   "metadata": {},
   "outputs": [],
   "source": [
    "nimport('import numpy as np')          \n",
    "assert str(np.array([1,2,3])) == '[1 2 3]'             "
   ]
  },
  {
   "cell_type": "code",
   "execution_count": null,
   "metadata": {},
   "outputs": [
    {
     "name": "stdout",
     "output_type": "stream",
     "text": [
      "\u001b[33mWARNING: Skipping kora as it is not installed.\u001b[0m\n",
      "Uninstalling bokeh-2.3.0:\n",
      "  Successfully uninstalled bokeh-2.3.0\n",
      "Uninstalling fastai-1.0.61:\n",
      "  Successfully uninstalled fastai-1.0.61\n",
      "\u001b[33mWARNING: Skipping auraloss as it is not installed.\u001b[0m\n",
      "Uninstalling torch-1.8.1+cu101:\n",
      "  Successfully uninstalled torch-1.8.1+cu101\n"
     ]
    }
   ],
   "source": [
    "'''Uninstall packages to make nimport work harder in what follows'''\n",
    "!pip uninstall -y kora bokeh fastai auraloss torch"
   ]
  },
  {
   "cell_type": "code",
   "execution_count": null,
   "metadata": {},
   "outputs": [
    {
     "name": "stdout",
     "output_type": "stream",
     "text": [
      "  Import kora.selenium failed. Trying to install kora via pip\n",
      "     pip succeeded. re-importing kora.selenium as wd\n"
     ]
    }
   ],
   "source": [
    "nimport('from kora.selenium import wd')   \n",
    "from types import ModuleType, FunctionType \n",
    "assert isinstance(wd, ModuleType)"
   ]
  },
  {
   "cell_type": "code",
   "execution_count": null,
   "metadata": {},
   "outputs": [],
   "source": [
    "nimport('import bokeh, torch')\n",
    "assert isinstance(bokeh.license, FunctionType)\n",
    "assert torch.cuda.is_available() in [True, False]"
   ]
  },
  {
   "cell_type": "code",
   "execution_count": null,
   "metadata": {},
   "outputs": [
    {
     "name": "stdout",
     "output_type": "stream",
     "text": [
      "    Import auraloss failed, trying to install via pip\n",
      "     pip succeeded. re-importing auraloss as auraloss\n"
     ]
    }
   ],
   "source": [
    "nimport('import auraloss')                   # will fail if torch was not installed\n",
    "assert isinstance(auraloss.freq, ModuleType)"
   ]
  },
  {
   "cell_type": "code",
   "execution_count": null,
   "metadata": {},
   "outputs": [
    {
     "name": "stdout",
     "output_type": "stream",
     "text": [
      "  Import fastai.vision.all failed. Trying to install fastai via pip\n",
      "     pip succeeded. re-importing fastai.vision.all as *\n"
     ]
    }
   ],
   "source": [
    "nimport('from fastai.vision.all import *')   # will fail if torch was not installed\n",
    "assert URLs.MDL == 'http://files.fast.ai/models/'   "
   ]
  },
  {
   "cell_type": "code",
   "execution_count": null,
   "metadata": {},
   "outputs": [],
   "source": []
  }
 ],
 "metadata": {
  "kernelspec": {
   "display_name": "Python 3",
   "language": "python",
   "name": "python3"
  }
 },
 "nbformat": 4,
 "nbformat_minor": 1
}
