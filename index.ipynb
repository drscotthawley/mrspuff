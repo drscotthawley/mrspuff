{
 "cells": [
  {
   "cell_type": "code",
   "execution_count": null,
   "metadata": {},
   "outputs": [],
   "source": [
    "#hide"
   ]
  },
  {
   "cell_type": "markdown",
   "metadata": {},
   "source": [
    "# mrspuff\n",
    "\n",
    "> A library for Deep Learning education. (deep learning <=> having a school at the bottom of the ocean)"
   ]
  },
  {
   "cell_type": "markdown",
   "metadata": {},
   "source": [
    "![mrspuff image](https://github.com/drscotthawley/mrspuff/blob/master/images/mrspuff_logo.png?raw=1)\n",
    "\n",
    "## About\n",
    "`mrspuff` is a collection of teaching tools for deep learning, intended to work well on [Google Colab](https://colab.research.google.com/) and interface with [fast.ai](https://github.com/fastai/fastai)."
   ]
  },
  {
   "cell_type": "markdown",
   "metadata": {},
   "source": [
    "## Install"
   ]
  },
  {
   "cell_type": "markdown",
   "metadata": {},
   "source": [
    "`pip install mrspuff`"
   ]
  },
  {
   "cell_type": "markdown",
   "metadata": {},
   "source": [
    "## How to use"
   ]
  },
  {
   "cell_type": "markdown",
   "metadata": {},
   "source": [
    "This is still under development, not ready for widespread public use yet. \n",
    "\n",
    "If you want to try it,\n",
    "you may either import individual routines, as in\n",
    "```python\n",
    "from mrspuff.viz import image_and_bars\n",
    "```\n",
    " or import the whole package and access its submodules, e.g.:\n",
    "\n",
    "```python\n",
    "import mrspuff as msp\n",
    "\n",
    "p, t = mrspuff.utils.calc_prob()\n",
    "```"
   ]
  },
  {
   "cell_type": "code",
   "execution_count": null,
   "metadata": {},
   "outputs": [],
   "source": []
  }
 ],
 "metadata": {
  "kernelspec": {
   "display_name": "Python 3",
   "language": "python",
   "name": "python3"
  }
 },
 "nbformat": 4,
 "nbformat_minor": 0
}
