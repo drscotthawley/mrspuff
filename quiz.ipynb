{
 "cells": [
  {
   "cell_type": "raw",
   "metadata": {},
   "source": [
    "---\n",
    "description: Embedding little (non-graded) quiz questions in Colab notebooks\n",
    "output-file: quiz.html\n",
    "title: quiz\n",
    "\n",
    "---\n",
    "\n"
   ]
  },
  {
   "cell_type": "code",
   "execution_count": null,
   "metadata": {},
   "outputs": [],
   "source": [
    "#| default_exp quiz"
   ]
  },
  {
   "cell_type": "code",
   "execution_count": null,
   "metadata": {},
   "outputs": [],
   "source": [
    "#| include: false\n",
    "from nbdev.showdoc import *"
   ]
  },
  {
   "cell_type": "code",
   "execution_count": null,
   "metadata": {},
   "outputs": [],
   "source": [
    "#| include: false\n",
    "\n",
    "# normally we'd import fastai and mrspuff dependencies, but\n",
    "# actually none of this depends on fastai or the rest of mrspuff"
   ]
  },
  {
   "cell_type": "code",
   "execution_count": null,
   "metadata": {},
   "outputs": [
    {
     "data": {
      "text/html": [
       "\n",
       "        <style>\n",
       "            .jupyter-widgets {\n",
       "                color: var(--colab-primary-text-color)\n",
       "            }\n",
       "        </style>\n",
       "    "
      ],
      "text/plain": [
       "<IPython.core.display.HTML object>"
      ]
     },
     "metadata": {},
     "output_type": "display_data"
    },
    {
     "data": {
      "text/html": [
       "\n",
       "        <style>\n",
       "            .jupyter-widgets {\n",
       "                color: var(--colab-primary-text-color)\n",
       "            }\n",
       "        </style>\n",
       "    "
      ],
      "text/plain": [
       "<IPython.core.display.HTML object>"
      ]
     },
     "metadata": {},
     "output_type": "display_data"
    },
    {
     "data": {
      "text/html": [
       "\n",
       "        <style>\n",
       "            .jupyter-widgets {\n",
       "                color: var(--colab-primary-text-color)\n",
       "            }\n",
       "            .jupyter-button {\n",
       "                color: var(--colab-border-color)\n",
       "            }\n",
       "        </style>\n",
       "    "
      ],
      "text/plain": [
       "<IPython.core.display.HTML object>"
      ]
     },
     "metadata": {},
     "output_type": "display_data"
    }
   ],
   "source": [
    "#| export\n",
    "import ipywidgets as widgets\n",
    "from IPython.display import HTML, display, clear_output\n",
    "import base64\n",
    "import random "
   ]
  },
  {
   "cell_type": "code",
   "execution_count": null,
   "metadata": {},
   "outputs": [
    {
     "data": {
      "text/html": [
       "\n",
       "        <style>\n",
       "            .jupyter-widgets {\n",
       "                color: var(--colab-primary-text-color)\n",
       "            }\n",
       "        </style>\n",
       "    "
      ],
      "text/plain": [
       "<IPython.core.display.HTML object>"
      ]
     },
     "metadata": {},
     "output_type": "display_data"
    },
    {
     "data": {
      "text/html": [
       "\n",
       "        <style>\n",
       "            .jupyter-widgets {\n",
       "                color: var(--colab-primary-text-color)\n",
       "            }\n",
       "        </style>\n",
       "    "
      ],
      "text/plain": [
       "<IPython.core.display.HTML object>"
      ]
     },
     "metadata": {},
     "output_type": "display_data"
    },
    {
     "data": {
      "text/html": [
       "\n",
       "        <style>\n",
       "            .jupyter-widgets {\n",
       "                color: var(--colab-primary-text-color)\n",
       "            }\n",
       "            .jupyter-button {\n",
       "                color: var(--colab-border-color)\n",
       "            }\n",
       "        </style>\n",
       "    "
      ],
      "text/plain": [
       "<IPython.core.display.HTML object>"
      ]
     },
     "metadata": {},
     "output_type": "display_data"
    }
   ],
   "source": [
    "#| export \n",
    "\n",
    "def set_css_in_cell_output():\n",
    "    display(HTML('''\n",
    "        <style>\n",
    "            .jupyter-widgets {\n",
    "                color: var(--colab-primary-text-color)\n",
    "            }\n",
    "            .jupyter-button {\n",
    "                color: var(--colab-border-color)\n",
    "            }\n",
    "        </style>\n",
    "    '''))\n",
    "\n",
    "def detect_theme():  # change widget font color based on Colab theme\n",
    "    '''ipywidgets by default outputs black text for everything. Hard to read in Dark theme.'''\n",
    "    get_ipython().events.register('pre_run_cell', set_css_in_cell_output)\n",
    "\n",
    "detect_theme()  # go ahead and execute detect_theme"
   ]
  },
  {
   "cell_type": "code",
   "execution_count": null,
   "metadata": {},
   "outputs": [
    {
     "data": {
      "text/html": [
       "\n",
       "        <style>\n",
       "            .jupyter-widgets {\n",
       "                color: var(--colab-primary-text-color)\n",
       "            }\n",
       "        </style>\n",
       "    "
      ],
      "text/plain": [
       "<IPython.core.display.HTML object>"
      ]
     },
     "metadata": {},
     "output_type": "display_data"
    },
    {
     "data": {
      "text/html": [
       "\n",
       "        <style>\n",
       "            .jupyter-widgets {\n",
       "                color: var(--colab-primary-text-color)\n",
       "            }\n",
       "        </style>\n",
       "    "
      ],
      "text/plain": [
       "<IPython.core.display.HTML object>"
      ]
     },
     "metadata": {},
     "output_type": "display_data"
    },
    {
     "data": {
      "text/html": [
       "\n",
       "        <style>\n",
       "            .jupyter-widgets {\n",
       "                color: var(--colab-primary-text-color)\n",
       "            }\n",
       "            .jupyter-button {\n",
       "                color: var(--colab-border-color)\n",
       "            }\n",
       "        </style>\n",
       "    "
      ],
      "text/plain": [
       "<IPython.core.display.HTML object>"
      ]
     },
     "metadata": {},
     "output_type": "display_data"
    },
    {
     "data": {
      "text/html": [
       "\n",
       "        <style>\n",
       "            .jupyter-widgets {\n",
       "                color: var(--colab-primary-text-color)\n",
       "            }\n",
       "            .jupyter-button {\n",
       "                color: var(--colab-border-color)\n",
       "            }\n",
       "        </style>\n",
       "    "
      ],
      "text/plain": [
       "<IPython.core.display.HTML object>"
      ]
     },
     "metadata": {},
     "output_type": "display_data"
    }
   ],
   "source": [
    "#| export \n",
    "\n",
    "def cypher(text, decode=False, \n",
    "           key='key'    # default key is just the string 'key'!\n",
    "           ):\n",
    "    '''Vigenère cipher: Not secure, just a way to not display plaintext'''\n",
    "    # SHH modded from https://stackoverflow.com/a/38223403/4259243\n",
    "\n",
    "    out, sign, offset = [], 1, 0\n",
    "    if decode:\n",
    "        sign, offset, text = -1, 256, base64.urlsafe_b64decode(text).decode()\n",
    "    for i in range(len(text)):\n",
    "        key_c = key[i % len(key)]\n",
    "        out_c = chr((offset + ord(text[i]) + sign*ord(key_c)) % 256)\n",
    "        out.append(out_c)\n",
    "    if decode: return \"\".join(out)\n",
    "    return base64.urlsafe_b64encode(\"\".join(out).encode()).decode()\n",
    "\n",
    "def decypher(text, key='key'):\n",
    "    return cypher(text, decode=True, key=key)"
   ]
  },
  {
   "cell_type": "code",
   "execution_count": null,
   "metadata": {},
   "outputs": [
    {
     "data": {
      "text/html": [
       "\n",
       "        <style>\n",
       "            .jupyter-widgets {\n",
       "                color: var(--colab-primary-text-color)\n",
       "            }\n",
       "        </style>\n",
       "    "
      ],
      "text/plain": [
       "<IPython.core.display.HTML object>"
      ]
     },
     "metadata": {},
     "output_type": "display_data"
    },
    {
     "data": {
      "text/html": [
       "\n",
       "        <style>\n",
       "            .jupyter-widgets {\n",
       "                color: var(--colab-primary-text-color)\n",
       "            }\n",
       "        </style>\n",
       "    "
      ],
      "text/plain": [
       "<IPython.core.display.HTML object>"
      ]
     },
     "metadata": {},
     "output_type": "display_data"
    },
    {
     "data": {
      "text/html": [
       "\n",
       "        <style>\n",
       "            .jupyter-widgets {\n",
       "                color: var(--colab-primary-text-color)\n",
       "            }\n",
       "            .jupyter-button {\n",
       "                color: var(--colab-border-color)\n",
       "            }\n",
       "        </style>\n",
       "    "
      ],
      "text/plain": [
       "<IPython.core.display.HTML object>"
      ]
     },
     "metadata": {},
     "output_type": "display_data"
    },
    {
     "data": {
      "text/html": [
       "\n",
       "        <style>\n",
       "            .jupyter-widgets {\n",
       "                color: var(--colab-primary-text-color)\n",
       "            }\n",
       "            .jupyter-button {\n",
       "                color: var(--colab-border-color)\n",
       "            }\n",
       "        </style>\n",
       "    "
      ],
      "text/plain": [
       "<IPython.core.display.HTML object>"
      ]
     },
     "metadata": {},
     "output_type": "display_data"
    }
   ],
   "source": [
    "#| export \n",
    "\n",
    "def mc_widget(description,       # text to be displayed first, e.g. the question to be asked\n",
    "              options,           # list of choices\n",
    "              correct_answer, \n",
    "              decrypt_correct=False,\n",
    "              random_order=False\n",
    "              ):\n",
    "    '''Multiple Choice question widget\n",
    "    From zxzhaixiang's answer https://github.com/jupyter-widgets/ipywidgets/issues/2487#issuecomment-510721436\n",
    "    Decrypt answer added by SHH\n",
    "    '''\n",
    "    if decrypt_correct: correct_answer = decypher(correct_answer)\n",
    "\n",
    "    if correct_answer not in options:\n",
    "        options.append(correct_answer)\n",
    "\n",
    "    if random_order: random.shuffle(options)\n",
    "    \n",
    "    correct_answer_index = options.index(correct_answer)\n",
    "    \n",
    "    radio_options = [(words, i) for i, words in enumerate(options)]\n",
    "    alternativ = widgets.RadioButtons(\n",
    "        options = radio_options,\n",
    "        description = '',\n",
    "        disabled = False,\n",
    "        layout={'width': 'max-content'}\n",
    "    )\n",
    "    \n",
    "    \n",
    "    description_out = widgets.Output()\n",
    "    with description_out:\n",
    "        if (description is not None) and ('' != description):\n",
    "            print(description)\n",
    "        \n",
    "    feedback_out = widgets.Output()\n",
    "\n",
    "    def check_selection(b):\n",
    "        a = int(alternativ.value)\n",
    "        if a==correct_answer_index:\n",
    "            s = '\\x1b[6;30;42m' + \"Correct.\" + '\\x1b[0m' +\"\\n\" #green color\n",
    "        else:\n",
    "            s = '\\x1b[5;30;41m' + \"Incorrect. \" + '\\x1b[0m' +\"\\n\" #red color\n",
    "        with feedback_out:\n",
    "            clear_output()\n",
    "            print(s)\n",
    "        return\n",
    "    \n",
    "    check = widgets.Button(description=\"submit\")\n",
    "    check.on_click(check_selection)\n",
    "    \n",
    "    return widgets.VBox([description_out, alternativ, check, feedback_out])"
   ]
  },
  {
   "cell_type": "code",
   "execution_count": null,
   "metadata": {},
   "outputs": [
    {
     "data": {
      "text/html": [
       "\n",
       "        <style>\n",
       "            .jupyter-widgets {\n",
       "                color: var(--colab-primary-text-color)\n",
       "            }\n",
       "        </style>\n",
       "    "
      ],
      "text/plain": [
       "<IPython.core.display.HTML object>"
      ]
     },
     "metadata": {},
     "output_type": "display_data"
    },
    {
     "data": {
      "text/html": [
       "\n",
       "        <style>\n",
       "            .jupyter-widgets {\n",
       "                color: var(--colab-primary-text-color)\n",
       "            }\n",
       "        </style>\n",
       "    "
      ],
      "text/plain": [
       "<IPython.core.display.HTML object>"
      ]
     },
     "metadata": {},
     "output_type": "display_data"
    },
    {
     "data": {
      "text/html": [
       "\n",
       "        <style>\n",
       "            .jupyter-widgets {\n",
       "                color: var(--colab-primary-text-color)\n",
       "            }\n",
       "            .jupyter-button {\n",
       "                color: var(--colab-border-color)\n",
       "            }\n",
       "        </style>\n",
       "    "
      ],
      "text/plain": [
       "<IPython.core.display.HTML object>"
      ]
     },
     "metadata": {},
     "output_type": "display_data"
    },
    {
     "data": {
      "text/html": [
       "\n",
       "        <style>\n",
       "            .jupyter-widgets {\n",
       "                color: var(--colab-primary-text-color)\n",
       "            }\n",
       "            .jupyter-button {\n",
       "                color: var(--colab-border-color)\n",
       "            }\n",
       "        </style>\n",
       "    "
      ],
      "text/plain": [
       "<IPython.core.display.HTML object>"
      ]
     },
     "metadata": {},
     "output_type": "display_data"
    },
    {
     "data": {
      "application/vnd.jupyter.widget-view+json": {
       "model_id": "67e1574a58aa4955a8d44098510a900e",
       "version_major": 2,
       "version_minor": 0
      },
      "text/plain": [
       "VBox(children=(Output(), RadioButtons(layout=Layout(width='max-content'), options=(('apple', 0), ('banana', 1)…"
      ]
     },
     "metadata": {},
     "output_type": "display_data"
    }
   ],
   "source": [
    "Q1 = mc_widget('Which of these fruits is shaped like a pear?',['apple','banana','pear'],'pear')\n",
    "display(Q1)"
   ]
  },
  {
   "cell_type": "markdown",
   "metadata": {},
   "source": [
    "Randomize the choice order:"
   ]
  },
  {
   "cell_type": "code",
   "execution_count": null,
   "metadata": {},
   "outputs": [
    {
     "data": {
      "text/html": [
       "\n",
       "        <style>\n",
       "            .jupyter-widgets {\n",
       "                color: var(--colab-primary-text-color)\n",
       "            }\n",
       "        </style>\n",
       "    "
      ],
      "text/plain": [
       "<IPython.core.display.HTML object>"
      ]
     },
     "metadata": {},
     "output_type": "display_data"
    },
    {
     "data": {
      "text/html": [
       "\n",
       "        <style>\n",
       "            .jupyter-widgets {\n",
       "                color: var(--colab-primary-text-color)\n",
       "            }\n",
       "        </style>\n",
       "    "
      ],
      "text/plain": [
       "<IPython.core.display.HTML object>"
      ]
     },
     "metadata": {},
     "output_type": "display_data"
    },
    {
     "data": {
      "text/html": [
       "\n",
       "        <style>\n",
       "            .jupyter-widgets {\n",
       "                color: var(--colab-primary-text-color)\n",
       "            }\n",
       "            .jupyter-button {\n",
       "                color: var(--colab-border-color)\n",
       "            }\n",
       "        </style>\n",
       "    "
      ],
      "text/plain": [
       "<IPython.core.display.HTML object>"
      ]
     },
     "metadata": {},
     "output_type": "display_data"
    },
    {
     "data": {
      "text/html": [
       "\n",
       "        <style>\n",
       "            .jupyter-widgets {\n",
       "                color: var(--colab-primary-text-color)\n",
       "            }\n",
       "            .jupyter-button {\n",
       "                color: var(--colab-border-color)\n",
       "            }\n",
       "        </style>\n",
       "    "
      ],
      "text/plain": [
       "<IPython.core.display.HTML object>"
      ]
     },
     "metadata": {},
     "output_type": "display_data"
    },
    {
     "data": {
      "application/vnd.jupyter.widget-view+json": {
       "model_id": "ca76fc29ee7c4ef48164d8e39c4e572d",
       "version_major": 2,
       "version_minor": 0
      },
      "text/plain": [
       "VBox(children=(Output(), RadioButtons(layout=Layout(width='max-content'), options=(('banana', 0), ('apple', 1)…"
      ]
     },
     "metadata": {},
     "output_type": "display_data"
    }
   ],
   "source": [
    "mc_widget('Which of these fruits is shaped like a pear?',['apple','banana','pear'],'pear', random_order=True)"
   ]
  },
  {
   "cell_type": "markdown",
   "metadata": {},
   "source": [
    "Can also use an encrypted version of the correct answer:"
   ]
  },
  {
   "cell_type": "code",
   "execution_count": null,
   "metadata": {},
   "outputs": [
    {
     "data": {
      "text/html": [
       "\n",
       "        <style>\n",
       "            .jupyter-widgets {\n",
       "                color: var(--colab-primary-text-color)\n",
       "            }\n",
       "        </style>\n",
       "    "
      ],
      "text/plain": [
       "<IPython.core.display.HTML object>"
      ]
     },
     "metadata": {},
     "output_type": "display_data"
    },
    {
     "data": {
      "text/html": [
       "\n",
       "        <style>\n",
       "            .jupyter-widgets {\n",
       "                color: var(--colab-primary-text-color)\n",
       "            }\n",
       "        </style>\n",
       "    "
      ],
      "text/plain": [
       "<IPython.core.display.HTML object>"
      ]
     },
     "metadata": {},
     "output_type": "display_data"
    },
    {
     "data": {
      "text/html": [
       "\n",
       "        <style>\n",
       "            .jupyter-widgets {\n",
       "                color: var(--colab-primary-text-color)\n",
       "            }\n",
       "            .jupyter-button {\n",
       "                color: var(--colab-border-color)\n",
       "            }\n",
       "        </style>\n",
       "    "
      ],
      "text/plain": [
       "<IPython.core.display.HTML object>"
      ]
     },
     "metadata": {},
     "output_type": "display_data"
    },
    {
     "data": {
      "text/plain": [
       "'w5vDisOaw50='"
      ]
     },
     "execution_count": null,
     "metadata": {},
     "output_type": "execute_result"
    }
   ],
   "source": [
    "cypher('pear')"
   ]
  },
  {
   "cell_type": "code",
   "execution_count": null,
   "metadata": {},
   "outputs": [
    {
     "data": {
      "text/html": [
       "\n",
       "        <style>\n",
       "            .jupyter-widgets {\n",
       "                color: var(--colab-primary-text-color)\n",
       "            }\n",
       "        </style>\n",
       "    "
      ],
      "text/plain": [
       "<IPython.core.display.HTML object>"
      ]
     },
     "metadata": {},
     "output_type": "display_data"
    },
    {
     "data": {
      "text/html": [
       "\n",
       "        <style>\n",
       "            .jupyter-widgets {\n",
       "                color: var(--colab-primary-text-color)\n",
       "            }\n",
       "        </style>\n",
       "    "
      ],
      "text/plain": [
       "<IPython.core.display.HTML object>"
      ]
     },
     "metadata": {},
     "output_type": "display_data"
    },
    {
     "data": {
      "text/html": [
       "\n",
       "        <style>\n",
       "            .jupyter-widgets {\n",
       "                color: var(--colab-primary-text-color)\n",
       "            }\n",
       "            .jupyter-button {\n",
       "                color: var(--colab-border-color)\n",
       "            }\n",
       "        </style>\n",
       "    "
      ],
      "text/plain": [
       "<IPython.core.display.HTML object>"
      ]
     },
     "metadata": {},
     "output_type": "display_data"
    },
    {
     "data": {
      "text/plain": [
       "'pear'"
      ]
     },
     "execution_count": null,
     "metadata": {},
     "output_type": "execute_result"
    }
   ],
   "source": [
    "decypher('w5vDisOaw50=')"
   ]
  },
  {
   "cell_type": "code",
   "execution_count": null,
   "metadata": {},
   "outputs": [
    {
     "data": {
      "text/html": [
       "\n",
       "        <style>\n",
       "            .jupyter-widgets {\n",
       "                color: var(--colab-primary-text-color)\n",
       "            }\n",
       "        </style>\n",
       "    "
      ],
      "text/plain": [
       "<IPython.core.display.HTML object>"
      ]
     },
     "metadata": {},
     "output_type": "display_data"
    },
    {
     "data": {
      "text/html": [
       "\n",
       "        <style>\n",
       "            .jupyter-widgets {\n",
       "                color: var(--colab-primary-text-color)\n",
       "            }\n",
       "        </style>\n",
       "    "
      ],
      "text/plain": [
       "<IPython.core.display.HTML object>"
      ]
     },
     "metadata": {},
     "output_type": "display_data"
    },
    {
     "data": {
      "text/html": [
       "\n",
       "        <style>\n",
       "            .jupyter-widgets {\n",
       "                color: var(--colab-primary-text-color)\n",
       "            }\n",
       "            .jupyter-button {\n",
       "                color: var(--colab-border-color)\n",
       "            }\n",
       "        </style>\n",
       "    "
      ],
      "text/plain": [
       "<IPython.core.display.HTML object>"
      ]
     },
     "metadata": {},
     "output_type": "display_data"
    },
    {
     "data": {
      "application/vnd.jupyter.widget-view+json": {
       "model_id": "a787807eac0647bfa428724147a59c75",
       "version_major": 2,
       "version_minor": 0
      },
      "text/plain": [
       "VBox(children=(Output(), RadioButtons(options=(('apple', 0), ('banana', 1), ('pear', 2)), value=0), Button(des…"
      ]
     },
     "metadata": {},
     "output_type": "display_data"
    }
   ],
   "source": [
    "display(mc_widget('Which of these fruits is shaped like a pear?',['apple','banana','pear'],'w5vDisOaw50=',True))"
   ]
  },
  {
   "cell_type": "code",
   "execution_count": null,
   "metadata": {},
   "outputs": [],
   "source": []
  }
 ],
 "metadata": {
  "kernelspec": {
   "display_name": "Python 3",
   "language": "python",
   "name": "python3"
  }
 },
 "nbformat": 4,
 "nbformat_minor": 0
}
