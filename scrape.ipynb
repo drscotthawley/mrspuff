{
 "cells": [
  {
   "cell_type": "code",
   "execution_count": null,
   "metadata": {},
   "outputs": [],
   "source": [
    "# default_exp scrape"
   ]
  },
  {
   "cell_type": "markdown",
   "metadata": {},
   "source": [
    "# scrape\n",
    "\n",
    "> This is a collection of routines for dataset-building via web scraping"
   ]
  },
  {
   "cell_type": "markdown",
   "metadata": {},
   "source": [
    "This is modified from Google-scraping code first shared [by akashgshastri on Fast.ai forums](https://forums.fast.ai/t/google-image-scraper/79682/6) which I then updated.\n",
    "\n",
    "*Note: Turns out that Jeremy Howard & Sylvain Gugger had already taught scraping in the [2020 version of the FastAI course](https://github.com/fastai/course2020), and provided some useful routines. So, the code I'd had written previously, I'm going to remove and replace with slighly modified versions of theirs.  (In particular, their DuckDuckGo scraper doesn't require any Selenium ChromeDriver like the Google-scraping code I'd written. Which is great because that was messing up the CI on GitHub anyway.)*\n",
    "\n"
   ]
  },
  {
   "cell_type": "code",
   "execution_count": null,
   "metadata": {},
   "outputs": [],
   "source": [
    "#export\n",
    "import re\n",
    "import requests \n",
    "import json \n",
    "\n",
    "#modified from fastbook utils, https://github.com/fastai/course20/blob/master/fastbook/__init__.py\n",
    "#by Jeremy Howard and Sylvain Gugger.  Just removed the .decode() formatting, and replaced L() with list()\n",
    "def search_images_ddg(key,max_n=200):\n",
    "    \"\"\"Search for 'key' with DuckDuckGo and return a unique urls of 'max_n' images\n",
    "    (Adopted from https://github.com/deepanprabhu/duckduckgo-images-api)\n",
    "    \"\"\"\n",
    "    url        = 'https://duckduckgo.com/'\n",
    "    params     = {'q':key}\n",
    "    res        = requests.post(url,data=params)\n",
    "    searchObj  = re.search(r'vqd=([\\d-]+)\\&',res.text)\n",
    "    if not searchObj: print('Token Parsing Failed !'); return\n",
    "    requestUrl = url + 'i.js'\n",
    "    headers    = {'User-Agent': 'Mozilla/5.0 (X11; Ubuntu; Linux x86_64; rv:71.0) Gecko/20100101 Firefox/71.0'}\n",
    "    params     = (('l','us-en'),('o','json'),('q',key),('vqd',searchObj.group(1)),('f',',,,'),('p','1'),('v7exp','a'))\n",
    "    urls       = []\n",
    "    while True:\n",
    "        try:\n",
    "            res  = requests.get(requestUrl,headers=headers,params=params)\n",
    "            data = json.loads(res.text)\n",
    "            for obj in data['results']:\n",
    "                urls.append(obj['image'])\n",
    "                max_n = max_n - 1\n",
    "                if max_n < 1: return list(set(urls))     # dedupe\n",
    "            if 'next' not in data: return list(set(urls))\n",
    "            requestUrl = url + data['next']\n",
    "        except:\n",
    "            pass"
   ]
  },
  {
   "cell_type": "code",
   "execution_count": null,
   "metadata": {},
   "outputs": [],
   "source": [
    "#export \n",
    "import os, io  \n",
    "from PIL import Image, ImageOps\n",
    "import hashlib\n",
    "\n",
    "\n",
    "def download_and_save(folder_path:str, url:str, verbose:bool=True):\n",
    "    success = False\n",
    "    try:\n",
    "        image_content = requests.get(url).content\n",
    "\n",
    "    except Exception as e:\n",
    "        print(f\"ERROR - Could not download {url} - {e}\")\n",
    "        \n",
    "    try:\n",
    "        image_file = io.BytesIO(image_content)\n",
    "        image = Image.open(image_file).convert('RGB')\n",
    "        file_path = os.path.join(folder_path,hashlib.sha1(image_content).hexdigest()[:10] + '.jpg')\n",
    "        with open(file_path, 'wb') as f:\n",
    "            image.save(f, \"JPEG\", quality=85)\n",
    "        if verbose:  print(f\"SUCCESS - saved {url} - as {file_path}\")\n",
    "        success = True\n",
    "    except Exception as e:\n",
    "        print(f\"ERROR - Could not save {url} - {e}\")\n",
    "    return success\n",
    "    \n",
    "\n",
    "def search_and_download(search_term:str, target_path:str='./images', number_images:int=10, verbose:bool=True):\n",
    "    \n",
    "    target_folder = os.path.join(target_path,'_'.join(search_term.lower().split(' ')))\n",
    "\n",
    "    if not os.path.exists(target_folder):\n",
    "        os.makedirs(target_folder)\n",
    "\n",
    "    try_urls = search_images_ddg(search_term, max_n=number_images)\n",
    "    print(f\"...got {len(try_urls)} urls for term '{search_term}'\")\n",
    "\n",
    "    count, urls = 0, []      # count success and urls whose images were successfully saved\n",
    "    for url in try_urls:\n",
    "        rc = download_and_save(target_folder, url, verbose=verbose)\n",
    "        if rc:\n",
    "            count += 1\n",
    "            urls.append(url)\n",
    "    \n",
    "    if verbose: print(f\"{search_term}: Expected {number_images}, succeeded at saving {count}.\")\n",
    "    return count, urls \n",
    "\n",
    "\n",
    "# work inprogress\n",
    "class Category():\n",
    "    def __init__(self):\n",
    "        self.images = []\n",
    "        self.urls = []\n",
    "\n",
    "    def __len__(self):\n",
    "        ni, nu = len(self.images), len(self.urls)\n",
    "        #assert ni==nu \n",
    "        return ni"
   ]
  },
  {
   "cell_type": "code",
   "execution_count": null,
   "metadata": {},
   "outputs": [],
   "source": [
    "#export\n",
    "import shutil\n",
    "import glob\n",
    "\n",
    "\n",
    "def img_scrape(search_terms:list, target_path:str='./.images', number_images:int=10, verbose:bool=True):\n",
    "    \n",
    "     # clear out directory before use\n",
    "    for category_path in glob.glob(os.path.join(target_path, \"*\")):\n",
    "        shutil.rmtree(category_path)\n",
    "        \n",
    "    dataset = {key: Category() for key in search_terms}\n",
    "    \n",
    "    for term in search_terms:\n",
    "        if verbose: print(f\"Searching on term '{term}'...\")\n",
    "        count, urls = search_and_download(search_term = term, target_path=target_path, number_images=number_images)\n",
    "        dataset[term].urls = urls   # save urls in case we want them later\n",
    "\n",
    "    return dataset"
   ]
  },
  {
   "cell_type": "code",
   "execution_count": null,
   "metadata": {},
   "outputs": [],
   "source": [
    "'''\n",
    "### Variables to adjust\n",
    "\n",
    "1. set search_term to an array of strings for which you want images\n",
    "2. set number_images to the number of images you want for each class\n",
    "3. set target_path to the path where you want images dataset created.\n",
    "'''\n",
    "search_terms = [\"dog\", \"cat\", \"horse\"]                     \n",
    "#search_terms = [\"les paul guitar\", \"stratocaster guitar\"] # H/T Nathan Sepulveda\n",
    "#search_terms = [\"alligator\", \"crocodile\"]                 # tricky\n",
    "#search_terms = [\"blue sky\", \"stop sign\"]                  # easy: these separate by color!\n",
    "#search_terms = [\"smart person\", \"stupid person\"]          # this is going to be a bad idea! (ethics)\n",
    "\n",
    "number_images = 10\n",
    "target_path = './.images'            # where to save to"
   ]
  },
  {
   "cell_type": "code",
   "execution_count": null,
   "metadata": {},
   "outputs": [
    {
     "name": "stdout",
     "output_type": "stream",
     "text": [
      "Searching on term 'dog'...\n",
      "hey from search_images_ddg\n",
      "...got 10 urls for term 'dog'\n",
      "SUCCESS - saved https://d1nvdmt0osh3cv.cloudfront.net/media/catalog/product/cache/1/k/a/e/image/1800x1800/acd9cc645a7ef0ba358bd1c2969a48c8/els1312-bla.jpg - as ./.images/dog/045bb79206.jpg\n",
      "SUCCESS - saved https://www.hdnicewallpapers.com/Walls/Big/Dog/3_Beautiful_Dog_Puppies_Picture_Download.jpg - as ./.images/dog/ac7120d53a.jpg\n",
      "SUCCESS - saved https://jooinn.com/images/dog-67.jpg - as ./.images/dog/9b59f312a8.jpg\n",
      "SUCCESS - saved https://www.keystonepuppies.com/wp-content/uploads/2019/01/boxer-dog-grown.jpg - as ./.images/dog/1524e33153.jpg\n",
      "SUCCESS - saved https://worlddogfinder.com/upload/editor/brittany_spaniel_puppies_LhEYdHYrX5.jpg - as ./.images/dog/b78a4c4163.jpg\n",
      "SUCCESS - saved http://dogdayzgrooming.com/wp-content/gallery/home-gallery/Laughing-Golden-1140x760.jpg - as ./.images/dog/6a374b11d6.jpg\n",
      "ERROR - Could not save http://jigsawpuzzles.online/king-include/uploads/labrador-dog-dogs-animal-pet-nature-lying-4203270734.jpg - cannot identify image file <_io.BytesIO object at 0x7fe5df527fb0>\n",
      "SUCCESS - saved http://www.parade.pet/assets-v2/images/dog/img-dogs/02.jpg - as ./.images/dog/88bb07cac8.jpg\n",
      "SUCCESS - saved https://sydneydruglawyers.com.au/wp-content/uploads/sniffer-dog-1024x1024.jpg - as ./.images/dog/8cee87adc0.jpg\n",
      "SUCCESS - saved https://www.sciencealert.com/images/articles/processed/dog-doubt_1024.jpg - as ./.images/dog/dae216cf27.jpg\n",
      "dog: Expected 10, succeeded at saving 9.\n",
      "Searching on term 'cat'...\n",
      "hey from search_images_ddg\n",
      "...got 10 urls for term 'cat'\n",
      "SUCCESS - saved https://www.wallpapergeeks.com/wp-content/uploads/2014/06/Cat-Mustache-Wallpaper.jpg - as ./.images/cat/ec6abc5cca.jpg\n",
      "ERROR - Could not save https://www.nationalgeographic.com/content/dam/animals/2019/12/cat-whisperers/cat-whisperers-nationalgeographic_1048225.ngsversion.1576164532899.adapt.1900.1.jpg - cannot identify image file <_io.BytesIO object at 0x7fe5df4b0fb0>\n",
      "SUCCESS - saved https://api.time.com/wp-content/uploads/2019/12/CatFilterReaction.jpg - as ./.images/cat/8d90a88666.jpg\n",
      "SUCCESS - saved https://www.sciencenews.org/wp-content/uploads/2020/03/033120_HT_covid-cat_feat-1028x579.jpg - as ./.images/cat/7655f2e055.jpg\n",
      "SUCCESS - saved https://upload.wikimedia.org/wikipedia/commons/d/dc/Grumpy_Cat_(14556024763)_(cropped).jpg - as ./.images/cat/d4df5a839c.jpg\n",
      "SUCCESS - saved https://scitechdaily.com/images/Cat-COVID-19-Mask.jpg - as ./.images/cat/d439145b0d.jpg\n",
      "SUCCESS - saved https://htc-wallpaper.com/wp-content/uploads/2015/05/Cute-cat-licking-its-paw.jpg - as ./.images/cat/a95061b4ae.jpg\n",
      "SUCCESS - saved https://www.hdnicewallpapers.com/Walls/Big/Cat/Beautiful_Angry_Kitten.jpg - as ./.images/cat/5db5815f59.jpg\n",
      "ERROR - Could not save https://www.askideas.com/media/25/American-Shorthair-Cat-Face-Picture.jpg - cannot identify image file <_io.BytesIO object at 0x7fe5df4b0fb0>\n",
      "SUCCESS - saved http://purrtacular.com/wp-content/uploads/2017/09/maya-extra-chromosome-cat-7.jpg - as ./.images/cat/a6a645f3cd.jpg\n",
      "cat: Expected 10, succeeded at saving 8.\n",
      "Searching on term 'horse'...\n",
      "hey from search_images_ddg\n",
      "...got 10 urls for term 'horse'\n",
      "SUCCESS - saved http://images6.fanpop.com/image/photos/35200000/White-Horse-horses-35203668-1920-1080.jpg - as ./.images/horse/96bce81f43.jpg\n",
      "SUCCESS - saved https://miro.medium.com/max/10368/1*ES15OJWo_LhqzYSI2JYanA.jpeg - as ./.images/horse/3f1f84d4b9.jpg\n",
      "ERROR - Could not save https://horsespirit.site/wp-content/uploads/2020/03/fries22.jpg - cannot identify image file <_io.BytesIO object at 0x7fe5df527fb0>\n",
      "SUCCESS - saved https://castlehorsefeeds.com/wp-content/uploads/2019/03/spring-horses.jpg - as ./.images/horse/21756204b2.jpg\n",
      "ERROR - Could not save https://horsespirit.site/wp-content/uploads/2020/04/shir21.jpg - cannot identify image file <_io.BytesIO object at 0x7fe5df4b0d70>\n",
      "ERROR - Could not save https://horsespirit.site/wp-content/uploads/2020/04/shir10.jpg - cannot identify image file <_io.BytesIO object at 0x7fe5df4b0d70>\n",
      "SUCCESS - saved http://thestyleinspiration.com/wp-content/uploads/2019/10/Arabian-Horses-.jpg - as ./.images/horse/b821ac7db9.jpg\n",
      "SUCCESS - saved https://assets.answersingenesis.org/img/cms/content/contentnode/og_image/horse-course.jpg - as ./.images/horse/8adbd9567c.jpg\n",
      "SUCCESS - saved https://fossilrim.org/wp-content/uploads/2017/01/Our-Animals-pic-horse-2.jpg - as ./.images/horse/8f588bdb25.jpg\n",
      "ERROR - Could not save https://hdwallpapers.move.pk/wp-content/uploads/2015/02/bueutiful-horse-running.jpg - cannot identify image file <_io.BytesIO object at 0x7fe5df4b0b90>\n",
      "horse: Expected 10, succeeded at saving 6.\n"
     ]
    }
   ],
   "source": [
    "dataset = img_scrape(search_terms, target_path=target_path, number_images=number_images)"
   ]
  },
  {
   "cell_type": "markdown",
   "metadata": {},
   "source": [
    "Let's see what's been saved to disk:"
   ]
  },
  {
   "cell_type": "code",
   "execution_count": null,
   "metadata": {},
   "outputs": [
    {
     "name": "stdout",
     "output_type": "stream",
     "text": [
      "./.images/cat:\n",
      "5db5815f59.jpg\t8d90a88666.jpg\ta95061b4ae.jpg\td4df5a839c.jpg\n",
      "7655f2e055.jpg\ta6a645f3cd.jpg\td439145b0d.jpg\tec6abc5cca.jpg\n",
      "\n",
      "./.images/dog:\n",
      "045bb79206.jpg\t6a374b11d6.jpg\t8cee87adc0.jpg\tac7120d53a.jpg\tdae216cf27.jpg\n",
      "1524e33153.jpg\t88bb07cac8.jpg\t9b59f312a8.jpg\tb78a4c4163.jpg\n",
      "\n",
      "./.images/horse:\n",
      "21756204b2.jpg\t8adbd9567c.jpg\t96bce81f43.jpg\n",
      "3f1f84d4b9.jpg\t8f588bdb25.jpg\tb821ac7db9.jpg\n"
     ]
    }
   ],
   "source": [
    "!ls {target_path}/*"
   ]
  },
  {
   "cell_type": "markdown",
   "metadata": {},
   "source": [
    "Now we should probably inspect the data to see if it looks good or if we accidentally grabbed images we don't want. \n",
    "\n",
    "### Extra: Interactive Image Browser (Slider)"
   ]
  },
  {
   "cell_type": "code",
   "execution_count": null,
   "metadata": {},
   "outputs": [
    {
     "name": "stdout",
     "output_type": "stream",
     "text": [
      "Loaded 9 images for dog\n",
      "Loaded 8 images for cat\n",
      "Loaded 6 images for horse\n"
     ]
    }
   ],
   "source": [
    "import numpy as np \n",
    "\n",
    "# Load images from disk\n",
    "for term in search_terms:\n",
    "    dir = term.replace(' ','_')  # spaces to underscores for disk access\n",
    "    dir = f'{target_path}/{dir}/'\n",
    "    dataset[term].images = [Image.open(item) for i in [glob.glob(f'{dir}*.{ext}') for ext in [\"jpg\",\"gif\",\"png\",\"tga\"]] for item in i]\n",
    "    print(f'Loaded {len(dataset[term].images)} images for {term}')"
   ]
  },
  {
   "cell_type": "code",
   "execution_count": null,
   "metadata": {},
   "outputs": [],
   "source": [
    "%matplotlib inline"
   ]
  },
  {
   "cell_type": "code",
   "execution_count": null,
   "metadata": {},
   "outputs": [],
   "source": [
    "#export\n",
    "import matplotlib.pyplot as plt\n",
    "from ipywidgets import interact\n",
    "def browse_images(dataset):\n",
    "    print(\"Select the class from the drop-down, and the image by moving the slider with the mouse or the arrow keys.\")\n",
    "    @interact(term=search_terms)\n",
    "    def _browse_images(term):\n",
    "        n = len(dataset[term])\n",
    "        def view_image(i):\n",
    "            plt.imshow(dataset[term].images[i], cmap=plt.cm.gray_r, interpolation='nearest')\n",
    "            plt.show()\n",
    "        interact(view_image, i=(0,n-1))"
   ]
  },
  {
   "cell_type": "code",
   "execution_count": null,
   "metadata": {},
   "outputs": [
    {
     "name": "stdout",
     "output_type": "stream",
     "text": [
      "Select the class from the drop-down, and the image by moving the slider with the mouse or the arrow keys.\n"
     ]
    },
    {
     "data": {
      "application/vnd.jupyter.widget-view+json": {
       "model_id": "ee7064f5d29343479816de66ebdf0a8e",
       "version_major": 2,
       "version_minor": 0
      },
      "text/plain": [
       "interactive(children=(Dropdown(description='term', options=('dog', 'cat', 'horse'), value='dog'), Output()), _…"
      ]
     },
     "metadata": {},
     "output_type": "display_data"
    }
   ],
   "source": [
    "browse_images(dataset)"
   ]
  },
  {
   "cell_type": "code",
   "execution_count": null,
   "metadata": {},
   "outputs": [],
   "source": []
  }
 ],
 "metadata": {
  "kernelspec": {
   "display_name": "Python 3",
   "language": "python",
   "name": "python3"
  }
 },
 "nbformat": 4,
 "nbformat_minor": 0
}
