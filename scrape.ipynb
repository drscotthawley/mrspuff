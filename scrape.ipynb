{
 "cells": [
  {
   "cell_type": "code",
   "execution_count": null,
   "metadata": {},
   "outputs": [],
   "source": [
    "# default_exp scrape"
   ]
  },
  {
   "cell_type": "markdown",
   "metadata": {},
   "source": [
    "# scrape\n",
    "\n",
    "> This is a collection of routines for dataset-building via web scraping, intended to be run on Google Colab"
   ]
  },
  {
   "cell_type": "markdown",
   "metadata": {},
   "source": [
    "This is modified from Google-scraping code first shared [by akashgshastri on Fast.ai forums](https://forums.fast.ai/t/google-image-scraper/79682/6) which I then updated.\n",
    "\n",
    "*Note: Turns out that Jeremy Howard & Sylvain Gugger had already taught scraping in the [2020 version of the FastAI course](https://github.com/fastai/course2020), and provided some useful routines. So, the code I'd had written previously, I'm going to remove and replace with slighly modified versions of theirs.  (In particular, their DuckDuckGo scraper doesn't require any Selenium ChromeDriver like the Google-scraping code I'd written. Which is great because that was messing up the CI on GitHub anyway.)*\n",
    "\n"
   ]
  },
  {
   "cell_type": "code",
   "execution_count": null,
   "metadata": {},
   "outputs": [],
   "source": [
    "#export\n",
    "import re\n",
    "import requests \n",
    "import json \n",
    "#from fastai.fastcore import *\n",
    "\n",
    "#modified from fastbook utils, https://github.com/fastai/course20/blob/master/fastbook/__init__.py\n",
    "#by Jeremy Howard and Sylvain Gugger.  Just removed the .decode() formatting, and replaced L() with list()\n",
    "def search_images_ddg(key,max_n=200):\n",
    "    \"\"\"Search for 'key' with DuckDuckGo and return a unique urls of 'max_n' images\n",
    "    (Adopted from https://github.com/deepanprabhu/duckduckgo-images-api)\n",
    "    \"\"\"\n",
    "    url        = 'https://duckduckgo.com/'\n",
    "    params     = {'q':key}\n",
    "    res        = requests.post(url,data=params)\n",
    "    searchObj  = re.search(r'vqd=([\\d-]+)\\&',res.text)\n",
    "    if not searchObj: print('Token Parsing Failed !'); return\n",
    "    requestUrl = url + 'i.js'\n",
    "    headers    = {'User-Agent': 'Mozilla/5.0 (X11; Ubuntu; Linux x86_64; rv:71.0) Gecko/20100101 Firefox/71.0'}\n",
    "    params     = (('l','us-en'),('o','json'),('q',key),('vqd',searchObj.group(1)),('f',',,,'),('p','1'),('v7exp','a'))\n",
    "    urls       = []\n",
    "    while True:\n",
    "        try:\n",
    "            res  = requests.get(requestUrl,headers=headers,params=params)\n",
    "            data = json.loads(res.text)\n",
    "            for obj in data['results']:\n",
    "                urls.append(obj['image'])\n",
    "                max_n = max_n - 1\n",
    "                if max_n < 1: return list(set(urls))     # dedupe\n",
    "            if 'next' not in data: return list(set(urls))\n",
    "            requestUrl = url + data['next']\n",
    "        except:\n",
    "            pass"
   ]
  },
  {
   "cell_type": "code",
   "execution_count": null,
   "metadata": {},
   "outputs": [],
   "source": [
    "#export \n",
    "import os, io  \n",
    "from PIL import Image, ImageOps\n",
    "import hashlib\n",
    "\n",
    "\n",
    "def download_and_save(folder_path:str, url:str, verbose:bool=True):\n",
    "    success = False\n",
    "    try:\n",
    "        image_content = requests.get(url).content\n",
    "\n",
    "    except Exception as e:\n",
    "        print(f\"ERROR - Could not download {url} - {e}\")\n",
    "        \n",
    "    try:\n",
    "        image_file = io.BytesIO(image_content)\n",
    "        image = Image.open(image_file).convert('RGB')\n",
    "        file_path = os.path.join(folder_path,hashlib.sha1(image_content).hexdigest()[:10] + '.jpg')\n",
    "        with open(file_path, 'wb') as f:\n",
    "            image.save(f, \"JPEG\", quality=85)\n",
    "        if verbose:  print(f\"SUCCESS - saved {url} - as {file_path}\")\n",
    "        success = True\n",
    "    except Exception as e:\n",
    "        print(f\"ERROR - Could not save {url} - {e}\")\n",
    "    return success\n",
    "    \n",
    "\n",
    "def search_and_download(search_term:str, target_path:str='./images', number_images:int=10, verbose:bool=True):\n",
    "    \n",
    "    target_folder = os.path.join(target_path,'_'.join(search_term.lower().split(' ')))\n",
    "\n",
    "    if not os.path.exists(target_folder):\n",
    "        os.makedirs(target_folder)\n",
    "\n",
    "    try_urls = search_images_ddg(search_term, max_n=number_images)\n",
    "    print(f\"...got {len(try_urls)} urls for term '{search_term}'\")\n",
    "\n",
    "    count, urls = 0, []      # count success and urls whose images were successfully saved\n",
    "    for url in try_urls:\n",
    "        rc = download_and_save(target_folder, url, verbose=verbose)\n",
    "        if rc:\n",
    "            count += 1\n",
    "            urls.append(url)\n",
    "    \n",
    "    if verbose: print(f\"{search_term}: Expected {number_images}, succeeded at saving {count}.\")\n",
    "    return count, urls \n",
    "\n",
    "\n",
    "# work inprogress\n",
    "class Category():\n",
    "    def __init__(self):\n",
    "        self.images = []\n",
    "        self.urls = []\n",
    "\n",
    "    def __len__(self):\n",
    "        ni, nu = len(self.images), len(self.urls)\n",
    "        #assert ni==nu \n",
    "        return ni"
   ]
  },
  {
   "cell_type": "code",
   "execution_count": null,
   "metadata": {},
   "outputs": [],
   "source": [
    "#export\n",
    "import shutil\n",
    "import glob\n",
    "\n",
    "\n",
    "def img_scrape(search_terms:list, target_path:str='./.images', number_images:int=10, verbose:bool=True):\n",
    "    \n",
    "     # clear out directory before use\n",
    "    for category_path in glob.glob(os.path.join(target_path, \"*\")):\n",
    "        shutil.rmtree(category_path)\n",
    "        \n",
    "    dataset = {key: Category() for key in search_terms}\n",
    "    \n",
    "    for term in search_terms:\n",
    "        if verbose: print(f\"Searching on term '{term}'...\")\n",
    "        count, urls = search_and_download(search_term = term, target_path=target_path, number_images=number_images)\n",
    "        dataset[term].urls = urls   # save urls in case we want them later\n",
    "\n",
    "    return dataset"
   ]
  },
  {
   "cell_type": "code",
   "execution_count": null,
   "metadata": {},
   "outputs": [],
   "source": [
    "'''\n",
    "### Variables to adjust\n",
    "\n",
    "1. set search_term to an array of strings for which you want images\n",
    "2. set number_images to the number of images you want for each class\n",
    "3. set target_path to the path where you want images dataset created.\n",
    "'''\n",
    "search_terms = [\"dog\", \"cat\", \"horse\"]                     \n",
    "#search_terms = [\"les paul guitar\", \"stratocaster guitar\"] # H/T Nathan Sepulveda\n",
    "#search_terms = [\"alligator\", \"crocodile\"]                 # tricky\n",
    "#search_terms = [\"blue sky\", \"stop sign\"]                  # easy: these separate by color!\n",
    "#search_terms = [\"smart person\", \"stupid person\"]          # this is going to be a bad idea! (ethics)\n",
    "\n",
    "number_images = 10\n",
    "target_dir = 'scraped_images'            # where to save to"
   ]
  },
  {
   "cell_type": "code",
   "execution_count": null,
   "metadata": {},
   "outputs": [
    {
     "name": "stdout",
     "output_type": "stream",
     "text": [
      "Searching on term 'dog'...\n",
      "...got 10 urls for term 'dog'\n",
      "SUCCESS - saved http://dogdayzgrooming.com/wp-content/gallery/home-gallery/Laughing-Golden-1140x760.jpg - as scraped_images/dog/6a374b11d6.jpg\n",
      "SUCCESS - saved https://www.sciencealert.com/images/articles/processed/dog-doubt_1024.jpg - as scraped_images/dog/dae216cf27.jpg\n",
      "SUCCESS - saved https://upload.wikimedia.org/wikipedia/commons/a/a5/Newfoundland_dog_Smoky.jpg - as scraped_images/dog/b80c464eef.jpg\n",
      "SUCCESS - saved https://www.keystonepuppies.com/wp-content/uploads/2019/01/boxer-dog-grown.jpg - as scraped_images/dog/1524e33153.jpg\n",
      "SUCCESS - saved https://www.stevedalepetworld.com/wp-content/uploads/2019/02/dog-in-shelter.jpg - as scraped_images/dog/006e6afb04.jpg\n",
      "SUCCESS - saved http://www.rspcasa.org.au/wp-content/uploads/2018/11/Puppy_dogtraining.jpg - as scraped_images/dog/c33630fd6f.jpg\n",
      "SUCCESS - saved https://www.pdsa.org.uk/media/4032/german-shepherd-dog-og.png - as scraped_images/dog/1c71edd98f.jpg\n",
      "SUCCESS - saved http://www.parade.pet/assets-v2/images/dog/img-dogs/02.jpg - as scraped_images/dog/88bb07cac8.jpg\n",
      "SUCCESS - saved https://upload.wikimedia.org/wikipedia/commons/3/34/Jumping_dog_Ryder.jpg - as scraped_images/dog/6cfef71a27.jpg\n",
      "SUCCESS - saved https://upload.wikimedia.org/wikipedia/commons/5/54/Pomsky_Dog_Breed_-_Pomeranian_Husky_Mix.jpg - as scraped_images/dog/de55a23f16.jpg\n",
      "dog: Expected 10, succeeded at saving 10.\n",
      "Searching on term 'cat'...\n",
      "...got 10 urls for term 'cat'\n",
      "SUCCESS - saved https://scitechdaily.com/images/Cat-COVID-19-Mask.jpg - as scraped_images/cat/d439145b0d.jpg\n",
      "SUCCESS - saved https://www.sciencenews.org/wp-content/uploads/2020/03/033120_HT_covid-cat_feat-1028x579.jpg - as scraped_images/cat/7655f2e055.jpg\n",
      "SUCCESS - saved http://purrtacular.com/wp-content/uploads/2017/09/maya-extra-chromosome-cat-7.jpg - as scraped_images/cat/a6a645f3cd.jpg\n",
      "SUCCESS - saved http://mymodernmet.com/wp/wp-content/uploads/2017/03/gabrielius-khiterer-stray-cats-4.jpg - as scraped_images/cat/617aa15b48.jpg\n",
      "SUCCESS - saved https://www.askideas.com/media/25/American-Shorthair-Cat-Face-Picture.jpg - as scraped_images/cat/4e0250916f.jpg\n",
      "SUCCESS - saved https://upload.wikimedia.org/wikipedia/commons/d/dc/Grumpy_Cat_(14556024763)_(cropped).jpg - as scraped_images/cat/d4df5a839c.jpg\n",
      "ERROR - Could not save https://www.nationalgeographic.com/content/dam/animals/2019/12/cat-whisperers/cat-whisperers-nationalgeographic_1048225.ngsversion.1576164532899.adapt.1900.1.jpg - cannot identify image file <_io.BytesIO object at 0x7f312ceecd70>\n",
      "SUCCESS - saved https://wallpapers-hd-wide.com/wp-content/uploads/2015/11/cat_im_hungry-photo-wallpaper-1920x1200.jpg - as scraped_images/cat/253ac3f03b.jpg\n",
      "SUCCESS - saved https://www.hdnicewallpapers.com/Walls/Big/Cat/Beautiful_Angry_Kitten.jpg - as scraped_images/cat/5db5815f59.jpg\n",
      "SUCCESS - saved https://htc-wallpaper.com/wp-content/uploads/2015/05/Cute-cat-licking-its-paw.jpg - as scraped_images/cat/a95061b4ae.jpg\n",
      "cat: Expected 10, succeeded at saving 9.\n",
      "Searching on term 'horse'...\n",
      "...got 10 urls for term 'horse'\n",
      "ERROR - Could not save https://horsespirit.site/wp-content/uploads/2020/04/shir10.jpg - cannot identify image file <_io.BytesIO object at 0x7f312cea22f0>\n",
      "SUCCESS - saved https://petkeen.com/wp-content/uploads/2020/07/brown-arabian-horse_pikist-1.jpg - as scraped_images/horse/ece8ee9e61.jpg\n",
      "SUCCESS - saved https://assets.answersingenesis.org/img/cms/content/contentnode/og_image/horse-course.jpg - as scraped_images/horse/8adbd9567c.jpg\n",
      "ERROR - Could not save https://hdwallpapers.move.pk/wp-content/uploads/2015/02/bueutiful-horse-running.jpg - cannot identify image file <_io.BytesIO object at 0x7f312cea25f0>\n",
      "SUCCESS - saved https://www.ufaw.org.uk/images/belgian-draught-horse.jpg - as scraped_images/horse/451d5d013d.jpg\n",
      "SUCCESS - saved https://miro.medium.com/max/10368/1*ES15OJWo_LhqzYSI2JYanA.jpeg - as scraped_images/horse/3f1f84d4b9.jpg\n",
      "SUCCESS - saved http://thestyleinspiration.com/wp-content/uploads/2019/10/Arabian-Horses-.jpg - as scraped_images/horse/b821ac7db9.jpg\n",
      "SUCCESS - saved http://images6.fanpop.com/image/photos/35200000/White-Horse-horses-35203668-1920-1080.jpg - as scraped_images/horse/96bce81f43.jpg\n",
      "SUCCESS - saved https://fossilrim.org/wp-content/uploads/2017/01/Our-Animals-pic-horse-2.jpg - as scraped_images/horse/8f588bdb25.jpg\n",
      "SUCCESS - saved https://arabianhorseworld.com/wp-content/uploads/2017/08/08-190917_TOC.jpg - as scraped_images/horse/6851ee1b64.jpg\n",
      "horse: Expected 10, succeeded at saving 8.\n"
     ]
    }
   ],
   "source": [
    "dataset = img_scrape(search_terms, target_path=target_dir, number_images=number_images)"
   ]
  },
  {
   "cell_type": "markdown",
   "metadata": {},
   "source": [
    "Let's see what's been saved to disk:"
   ]
  },
  {
   "cell_type": "code",
   "execution_count": null,
   "metadata": {},
   "outputs": [
    {
     "name": "stdout",
     "output_type": "stream",
     "text": [
      "scraped_images/cat:\n",
      "253ac3f03b.jpg\t5db5815f59.jpg\t7655f2e055.jpg\ta95061b4ae.jpg\td4df5a839c.jpg\n",
      "4e0250916f.jpg\t617aa15b48.jpg\ta6a645f3cd.jpg\td439145b0d.jpg\n",
      "\n",
      "scraped_images/dog:\n",
      "006e6afb04.jpg\t1c71edd98f.jpg\t6cfef71a27.jpg\tb80c464eef.jpg\tdae216cf27.jpg\n",
      "1524e33153.jpg\t6a374b11d6.jpg\t88bb07cac8.jpg\tc33630fd6f.jpg\tde55a23f16.jpg\n",
      "\n",
      "scraped_images/horse:\n",
      "3f1f84d4b9.jpg\t6851ee1b64.jpg\t8f588bdb25.jpg\tb821ac7db9.jpg\n",
      "451d5d013d.jpg\t8adbd9567c.jpg\t96bce81f43.jpg\tece8ee9e61.jpg\n"
     ]
    }
   ],
   "source": [
    "!ls {target_dir}/*"
   ]
  },
  {
   "cell_type": "markdown",
   "metadata": {},
   "source": [
    "Now we should probably inspect the data to see if it looks good or if we accidentally grabbed images we don't want. \n",
    "\n",
    "### Extra: Interactive Image Browser (Slider)"
   ]
  },
  {
   "cell_type": "code",
   "execution_count": null,
   "metadata": {},
   "outputs": [
    {
     "name": "stdout",
     "output_type": "stream",
     "text": [
      "Loaded 10 images for dog\n",
      "Loaded 9 images for cat\n",
      "Loaded 8 images for horse\n"
     ]
    }
   ],
   "source": [
    "import numpy as np \n",
    "\n",
    "# Load images from disk\n",
    "for term in search_terms:\n",
    "    dir = term.replace(' ','_')  # spaces to underscores for disk access\n",
    "    dir = f'{target_dir}/{dir}/'\n",
    "    dataset[term].images = [Image.open(item) for i in [glob.glob(f'{dir}*.{ext}') for ext in [\"jpg\",\"gif\",\"png\",\"tga\"]] for item in i]\n",
    "    print(f'Loaded {len(dataset[term].images)} images for {term}')"
   ]
  },
  {
   "cell_type": "code",
   "execution_count": null,
   "metadata": {},
   "outputs": [],
   "source": [
    "%matplotlib inline"
   ]
  },
  {
   "cell_type": "code",
   "execution_count": null,
   "metadata": {},
   "outputs": [],
   "source": [
    "#export\n",
    "import matplotlib.pyplot as plt\n",
    "from ipywidgets import interact\n",
    "def browse_images(dataset):\n",
    "    print(\"Select the class from the drop-down, and the image by moving the slider with the mouse or the arrow keys.\")\n",
    "    @interact(term=search_terms)\n",
    "    def _browse_images(term):\n",
    "        n = len(dataset[term])\n",
    "        def view_image(i):\n",
    "            plt.imshow(dataset[term].images[i], cmap=plt.cm.gray_r, interpolation='nearest')\n",
    "            plt.show()\n",
    "        interact(view_image, i=(0,n-1))"
   ]
  },
  {
   "cell_type": "code",
   "execution_count": null,
   "metadata": {},
   "outputs": [
    {
     "name": "stdout",
     "output_type": "stream",
     "text": [
      "Select the class from the drop-down, and the image by moving the slider with the mouse or the arrow keys.\n"
     ]
    },
    {
     "data": {
      "application/vnd.jupyter.widget-view+json": {
       "model_id": "3a7d559e873c4a2382672f8e04210e19",
       "version_major": 2,
       "version_minor": 0
      },
      "text/plain": [
       "interactive(children=(Dropdown(description='term', options=('dog', 'cat', 'horse'), value='dog'), Output()), _…"
      ]
     },
     "metadata": {},
     "output_type": "display_data"
    }
   ],
   "source": [
    "browse_images(dataset)"
   ]
  },
  {
   "cell_type": "markdown",
   "metadata": {},
   "source": [
    "Let's make a bunch of thumbnails. So, for every file in target_path, load the image, shrink it, and save it to a similar filename in a similar directory structure "
   ]
  },
  {
   "cell_type": "code",
   "execution_count": null,
   "metadata": {},
   "outputs": [],
   "source": [
    "# hide\n",
    "#!pip install xattr"
   ]
  },
  {
   "cell_type": "code",
   "execution_count": null,
   "metadata": {},
   "outputs": [],
   "source": [
    "#export \n",
    "from pathlib import Path\n",
    "import subprocess\n",
    "import shutil \n",
    "import time \n",
    "from IPython.display import HTML\n",
    "\n",
    "try:\n",
    "  from google.colab import drive\n",
    "  IN_COLAB = True\n",
    "except:\n",
    "  IN_COLAB = False\n",
    "\n",
    "\n",
    "def get_thumb_urls(\n",
    "    images_dir:str=\"scraped_images\",  # directory of full size images, no / on end\n",
    "    verbose:bool=False                # whether to print status messages or not\n",
    "    ) -> list:\n",
    "\n",
    "    if not IN_COLAB:\n",
    "        print(\"Sorry, this only works on Colab\")\n",
    "        return None \n",
    "        \n",
    "    drive.mount('/gdrive')\n",
    "    thumbs_copy_dir = '/gdrive/My Drive/'+ images_dir + \"_thumbs\"\n",
    "    shutil.rmtree(thumbs_copy_dir, ignore_errors=True)      # clear out thumbs dir\n",
    "\n",
    "    # get all the image filenames with full paths\n",
    "    image_paths = [path for path in Path(images_dir).resolve().rglob('*') if path.suffix.lower() in ['.jpg', '.png']]\n",
    "    \n",
    "    # create the thumbnails and save them to Drive \n",
    "    thumb_paths = []\n",
    "    for f in image_paths:\n",
    "        t = Path(thumbs_copy_dir) / f.parent.name / f.name \n",
    "        thumb_paths.append(t)\n",
    "        t.parent.mkdir(parents=True, exist_ok=True)  # create the parent directories before writing files\n",
    "        with Image.open(f) as im: \n",
    "            im.thumbnail((150,150))\n",
    "            im.save(t)\n",
    "    print(f\"Thumbnails saved to Google Drive in {thumbs_copy_dir}. Waiting til URLs are ready...\")\n",
    "\n",
    "    # get the urls to the thumbnails from drive\n",
    "    urls = []\n",
    "    for tp in thumb_paths:\n",
    "        count, fid = 0, \"local-225\"  # need a loop in case Drive needs time to generate FileID\n",
    "        while ('local-' in fid) and (count < 100):\n",
    "            fid, count = subprocess.getoutput(f\"xattr -p 'user.drive.id' '{tp}' \"), count+1\n",
    "            if 'local-' in fid: time.sleep(1)\n",
    "        url = f'https://drive.google.com/uc?id={fid}'\n",
    "        urls.append(url)\n",
    "        if verbose: print(f\"url = {url}\")\n",
    "    return urls"
   ]
  },
  {
   "cell_type": "code",
   "execution_count": null,
   "metadata": {},
   "outputs": [
    {
     "name": "stdout",
     "output_type": "stream",
     "text": [
      "Drive already mounted at /gdrive; to attempt to forcibly remount, call drive.mount(\"/gdrive\", force_remount=True).\n",
      "Thumbnails saved to Google Drive in /gdrive/My Drive/scraped_images_thumbs. Waiting til URLs are ready...\n",
      "urls =  ['https://drive.google.com/uc?id=1teWuIzJlQFbCL5x3_AHeZAB6w9vF5JCi', 'https://drive.google.com/uc?id=1tVtkkB5H4ZOlRtXvHicO528ug8QC43a5', 'https://drive.google.com/uc?id=1tUn4rbFWwQwVTc9G5ewHKJ5fqAazTP8g', 'https://drive.google.com/uc?id=1tSH4-vEbTzxdEcUom6PFuyzZcZEE1LAj', 'https://drive.google.com/uc?id=1tLU3aCozF9G4yKw0zqFK6Wd-yMmloapJ', 'https://drive.google.com/uc?id=1tG2HAjk0weIaKz2LgjgWTIGI67bT4bjK', 'https://drive.google.com/uc?id=1t9idauxJWC7uIbYK9z9twmNb1cOg1c8K', 'https://drive.google.com/uc?id=1t5jjtOD2sNA9zqTCsZ-seHm3RsF0LiWK', 'https://drive.google.com/uc?id=1t0UswWvvpUCG4GsR-i008D4YUgQpMhUG', 'https://drive.google.com/uc?id=1syM4M_-LSSvrTkzYcnIGSdduXhmt3nhl', 'https://drive.google.com/uc?id=1swqvr95eJxE7bqHeVAEzIMAvQIY-5Opl', 'https://drive.google.com/uc?id=1swVNxnts6EclUMeoVOiIYrIBVVVxs08j', 'https://drive.google.com/uc?id=1stHPWift-Ts6AD2I0295scCKET2m3Jh8', 'https://drive.google.com/uc?id=1sssOoMtrKurgDwL3qj_ltZBdBTlOQz8R', 'https://drive.google.com/uc?id=1ssead3aI5R9fSU-kbnYLb5y3a9bN6o9r', 'https://drive.google.com/uc?id=1uMCbkon4F_h01sWcpyEdYGkOJqWvkVTG', 'https://drive.google.com/uc?id=1uACP3jAVo_S5sPYVNf6e-re0o9Ti0c-a', 'https://drive.google.com/uc?id=1tySvG75rDNzdub_jOwFPrTvbYxu2D6jt', 'https://drive.google.com/uc?id=1tv2j1N-n7Zp-ODi0kQHtek4YDb1BCK0Z', 'https://drive.google.com/uc?id=1tqxQ3qYC1nJn1XmRVRg-z0K9jEDVnPVP', 'https://drive.google.com/uc?id=1tqS6aHF30UxvpRgsZeJLTJnl9AvBltIg', 'https://drive.google.com/uc?id=1tp7GbHR4QeI1uS4eqXn_Muei55lzrGzI', 'https://drive.google.com/uc?id=1tnV2YIGdBCMMbeaWA8Mu6bO5a1RRXbto', 'https://drive.google.com/uc?id=1tlFLGO5A4w1Lo57Zn5LG3aj5OSVWw3Us', 'https://drive.google.com/uc?id=1tjZ5gf-FbpeKSXfjAFNpg97Qyb7SN0tF', 'https://drive.google.com/uc?id=1tic1OV-lzjPPP_2a1xbMuzMzaQ8GJoqh', 'https://drive.google.com/uc?id=1tf9thQrEhKAVHKcGYAU1daDgJzqhzMM0']\n"
     ]
    },
    {
     "data": {
      "text/html": [
       "<img src=https://drive.google.com/uc?id=1teWuIzJlQFbCL5x3_AHeZAB6w9vF5JCi>"
      ],
      "text/plain": [
       "<IPython.core.display.HTML object>"
      ]
     },
     "execution_count": null,
     "metadata": {},
     "output_type": "execute_result"
    }
   ],
   "source": [
    "urls = get_thumb_urls(target_dir)\n",
    "print(\"urls = \",urls)\n",
    "url = urls[0] if IN_COLAB else 'https://drive.google.com/uc?id=1owIYMyW7yaYlZ4QcJ8P3iIxkl_mCN-GX'\n",
    "HTML(f\"<img src={url}>\")"
   ]
  },
  {
   "cell_type": "code",
   "execution_count": null,
   "metadata": {},
   "outputs": [],
   "source": []
  }
 ],
 "metadata": {
  "kernelspec": {
   "display_name": "Python 3",
   "language": "python",
   "name": "python3"
  }
 },
 "nbformat": 4,
 "nbformat_minor": 0
}
