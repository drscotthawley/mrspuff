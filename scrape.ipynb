{
 "cells": [
  {
   "cell_type": "code",
   "execution_count": null,
   "metadata": {},
   "outputs": [],
   "source": [
    "# default_exp scrape"
   ]
  },
  {
   "cell_type": "code",
   "execution_count": null,
   "metadata": {},
   "outputs": [],
   "source": [
    "#hide \n",
    "# Do this on Colab and then restart runtime:\n",
    "#!pip install fastai --upgrade | grep -v 'already satisfied'\n",
    "#!pip install mrspuff --upgrade | grep -v 'already satisfied'"
   ]
  },
  {
   "cell_type": "markdown",
   "metadata": {},
   "source": [
    "# scrape\n",
    "\n",
    "> This is a collection of routines for dataset-building via web scraping, intended to be run on Google Colab"
   ]
  },
  {
   "cell_type": "markdown",
   "metadata": {},
   "source": [
    "This is modified from Google-scraping code first shared [by akashgshastri on Fast.ai forums](https://forums.fast.ai/t/google-image-scraper/79682/6) which I then updated.\n",
    "\n",
    "*Note: Turns out that Jeremy Howard & Sylvain Gugger had already taught scraping in the [2020 version of the FastAI course](https://github.com/fastai/course2020), and provided some useful routines. So, the code I'd had written previously, I'm going to remove and replace with slighly modified versions of theirs.  (In particular, their DuckDuckGo scraper doesn't require any Selenium ChromeDriver like the Google-scraping code I'd written. Which is great because that was messing up the CI on GitHub anyway.)*\n",
    "\n"
   ]
  },
  {
   "cell_type": "code",
   "execution_count": null,
   "metadata": {},
   "outputs": [],
   "source": [
    "#export\n",
    "from fastcore.basics import *\n",
    "import numpy as np \n",
    "import re\n",
    "import requests \n",
    "import json \n",
    "import os, io  \n",
    "from PIL import Image, ImageOps\n",
    "import hashlib\n",
    "import shutil\n",
    "import glob\n",
    "from pathlib import Path\n",
    "import subprocess\n",
    "import time \n",
    "from IPython.display import HTML\n",
    "import matplotlib.pyplot as plt\n",
    "from ipywidgets import interact\n",
    "from mrspuff.utils import calc_prob, on_colab \n",
    "import pandas as pd"
   ]
  },
  {
   "cell_type": "code",
   "execution_count": null,
   "metadata": {},
   "outputs": [],
   "source": [
    "#export\n",
    "\n",
    "#modified from fastbook utils, https://github.com/fastai/course20/blob/master/fastbook/__init__.py\n",
    "#by Jeremy Howard and Sylvain Gugger.  Just removed the .decode() formatting, and replaced L() with list()\n",
    "def search_images_ddg(key,max_n=200):\n",
    "    \"\"\"By Howard & Gugger: Search for 'key' with DuckDuckGo and return a unique urls of 'max_n' images\n",
    "    (Adopted from https://github.com/deepanprabhu/duckduckgo-images-api)\n",
    "    \"\"\"\n",
    "    url        = 'https://duckduckgo.com/'\n",
    "    params     = {'q':key}\n",
    "    res        = requests.post(url,data=params)\n",
    "    searchObj  = re.search(r'vqd=([\\d-]+)\\&',res.text)\n",
    "    if not searchObj: print('Token Parsing Failed !'); return\n",
    "    requestUrl = url + 'i.js'\n",
    "    headers    = {'User-Agent': 'Mozilla/5.0 (X11; Ubuntu; Linux x86_64; rv:71.0) Gecko/20100101 Firefox/71.0'}\n",
    "    params     = (('l','us-en'),('o','json'),('q',key),('vqd',searchObj.group(1)),('f',',,,'),('p','1'),('v7exp','a'))\n",
    "    urls       = []\n",
    "    while True:\n",
    "        try:\n",
    "            res  = requests.get(requestUrl,headers=headers,params=params)\n",
    "            data = json.loads(res.text)\n",
    "            for obj in data['results']:\n",
    "                urls.append(obj['image'])\n",
    "                max_n = max_n - 1\n",
    "                if max_n < 1: return list(set(urls))     # dedupe\n",
    "            if 'next' not in data: return list(set(urls))\n",
    "            requestUrl = url + data['next']\n",
    "        except:\n",
    "            pass"
   ]
  },
  {
   "cell_type": "code",
   "execution_count": null,
   "metadata": {},
   "outputs": [],
   "source": [
    "#export \n",
    "def download_and_save(folder_path:str, url:str, verbose:bool=True):\n",
    "    success = False\n",
    "    try:\n",
    "        image_content = requests.get(url).content\n",
    "\n",
    "    except Exception as e:\n",
    "        print(f\"ERROR - Could not download {url} - {e}\")\n",
    "    \n",
    "    try:\n",
    "        image_file = io.BytesIO(image_content)\n",
    "        image = Image.open(image_file).convert('RGB')\n",
    "        file_path = os.path.join(folder_path,hashlib.sha1(image_content).hexdigest()[:10] + '.jpg')\n",
    "        with open(file_path, 'wb') as f:\n",
    "            image.save(f, \"JPEG\", quality=85)\n",
    "        #if verbose:  print(f\"SUCCESS - saved {url} - as {file_path}\")\n",
    "        success = True\n",
    "    except Exception as e:\n",
    "        print(f\"ERROR - Could not save {url} - {e}\")\n",
    "        file_path = ''\n",
    "    return file_path\n",
    "    \n",
    "\n",
    "def search_and_download(search_term:str, df=None, target_path:str='./images', num_images:int=10, verbose:bool=True):\n",
    "    \n",
    "    target_folder = os.path.join(target_path,'_'.join(search_term.lower().split(' ')))\n",
    "\n",
    "    if not os.path.exists(target_folder):\n",
    "        os.makedirs(target_folder)\n",
    "\n",
    "    try_urls = search_images_ddg(search_term, max_n=num_images)\n",
    "    print(f\"...got {len(try_urls)} urls for term '{search_term}'\")\n",
    "\n",
    "    if df is None: df = pd.DataFrame(columns = ['file_path', 'label', 'orig_url'])\n",
    "    for url in try_urls:\n",
    "        file_path = download_and_save(target_folder, url, verbose=verbose)\n",
    "        if file_path != '':\n",
    "            df = df.append({ 'file_path' : file_path, 'label':search_term, 'orig_url' : url}, ignore_index = True)\n",
    "    \n",
    "    if verbose: print(f\"{search_term}: Expected {num_images}, succeeded at saving {len(df)}.\")\n",
    "    return df   # return a dataframe storing successully downloaded files and urls they came from\n"
   ]
  },
  {
   "cell_type": "code",
   "execution_count": null,
   "metadata": {},
   "outputs": [],
   "source": [
    "#export\n",
    "def img_scrape(search_terms:list, target_path:str='./.images', num_images:int=10, verbose:bool=True):\n",
    "    \n",
    "     # clear out directory before use\n",
    "    for category_path in glob.glob(os.path.join(target_path, \"*\")):\n",
    "        shutil.rmtree(category_path)\n",
    "        \n",
    "    df = pd.DataFrame(columns = ['file_path', 'label', 'orig_url'])\n",
    "    for term in search_terms:\n",
    "        if verbose: print(f\"Searching on term '{term}'...\")\n",
    "        #df = pd.concat([df, search_and_download(search_term = term, target_path=target_path, num_images=num_images)], axis=0)\n",
    "        df = df.append(search_and_download(search_term = term, target_path=target_path, num_images=num_images), ignore_index = True)\n",
    "\n",
    "    return df # return list of file paths and original urls"
   ]
  },
  {
   "cell_type": "code",
   "execution_count": null,
   "metadata": {},
   "outputs": [],
   "source": [
    "'''\n",
    "### Variables to adjust\n",
    "\n",
    "1. set search_term to an array of strings for which you want images\n",
    "2. set num_images to the number of images you want for each class\n",
    "3. set target_path to the path where you want images dataset created.\n",
    "'''\n",
    "search_terms = ['cat','dog','horse']                    \n",
    "#search_terms = [\"les paul guitar\", \"stratocaster guitar\"] # H/T Nathan Sepulveda\n",
    "#search_terms = [\"alligator\", \"crocodile\"]                 # tricky\n",
    "#search_terms = [\"blue sky\", \"stop sign\"]                  # easy: these separate by color!\n",
    "#search_terms = [\"smart person\", \"stupid person\"]          # this is going to be a bad idea! (ethics)\n",
    "\n",
    "num_images = 10\n",
    "target_dir = 'scraped_images'            # where to save to"
   ]
  },
  {
   "cell_type": "code",
   "execution_count": null,
   "metadata": {},
   "outputs": [
    {
     "name": "stdout",
     "output_type": "stream",
     "text": [
      "Searching on term 'cat'...\n",
      "...got 10 urls for term 'cat'\n",
      "cat: Expected 10, succeeded at saving 10.\n",
      "Searching on term 'dog'...\n",
      "...got 10 urls for term 'dog'\n",
      "ERROR - Could not download https://www.hdnicewallpapers.com/Walls/Big/Dog/Three_Cute_Doggy_in_Row.jpg - HTTPSConnectionPool(host='www.hdnicewallpapers.com', port=443): Max retries exceeded with url: /Walls/Big/Dog/Three_Cute_Doggy_in_Row.jpg (Caused by NewConnectionError('<urllib3.connection.VerifiedHTTPSConnection object at 0x7fc9a8889f90>: Failed to establish a new connection: [Errno -2] Name or service not known'))\n",
      "ERROR - Could not save https://www.hdnicewallpapers.com/Walls/Big/Dog/Three_Cute_Doggy_in_Row.jpg - local variable 'image_content' referenced before assignment\n",
      "dog: Expected 10, succeeded at saving 9.\n",
      "Searching on term 'horse'...\n",
      "...got 10 urls for term 'horse'\n",
      "ERROR - Could not save https://horsespirit.site/wp-content/uploads/2020/04/shir10.jpg - cannot identify image file <_io.BytesIO object at 0x7fc9a8859f50>\n",
      "ERROR - Could not save https://hdwallpapers.move.pk/wp-content/uploads/2015/02/bueutiful-horse-running.jpg - cannot identify image file <_io.BytesIO object at 0x7fc9a87e2e30>\n",
      "ERROR - Could not save https://horsespirit.site/wp-content/uploads/2020/04/shir21.jpg - cannot identify image file <_io.BytesIO object at 0x7fc9a87fd6b0>\n",
      "horse: Expected 10, succeeded at saving 7.\n",
      "26 images\n"
     ]
    },
    {
     "data": {
      "text/html": [
       "<div>\n",
       "<style scoped>\n",
       "    .dataframe tbody tr th:only-of-type {\n",
       "        vertical-align: middle;\n",
       "    }\n",
       "\n",
       "    .dataframe tbody tr th {\n",
       "        vertical-align: top;\n",
       "    }\n",
       "\n",
       "    .dataframe thead th {\n",
       "        text-align: right;\n",
       "    }\n",
       "</style>\n",
       "<table border=\"1\" class=\"dataframe\">\n",
       "  <thead>\n",
       "    <tr style=\"text-align: right;\">\n",
       "      <th></th>\n",
       "      <th>file_path</th>\n",
       "      <th>label</th>\n",
       "      <th>orig_url</th>\n",
       "    </tr>\n",
       "  </thead>\n",
       "  <tbody>\n",
       "    <tr>\n",
       "      <th>0</th>\n",
       "      <td>scraped_images/cat/d4df5a839c.jpg</td>\n",
       "      <td>cat</td>\n",
       "      <td>https://upload.wikimedia.org/wikipedia/commons/d/dc/Grumpy_Cat_(14556024763)_(cropped).jpg</td>\n",
       "    </tr>\n",
       "    <tr>\n",
       "      <th>1</th>\n",
       "      <td>scraped_images/cat/b3a14c4060.jpg</td>\n",
       "      <td>cat</td>\n",
       "      <td>https://wallup.net/wp-content/uploads/2019/09/708281-kittens-kitten-cat-cats-baby-cute.jpg</td>\n",
       "    </tr>\n",
       "    <tr>\n",
       "      <th>2</th>\n",
       "      <td>scraped_images/cat/74da23aa13.jpg</td>\n",
       "      <td>cat</td>\n",
       "      <td>https://upload.wikimedia.org/wikipedia/commons/thumb/6/66/An_up-close_picture_of_a_curious_male_domestic_shorthair_tabby_cat.jpg/1200px-An_up-close_picture_of_a_curious_male_domestic_shorthair_tabby_cat.jpg</td>\n",
       "    </tr>\n",
       "    <tr>\n",
       "      <th>3</th>\n",
       "      <td>scraped_images/cat/7655f2e055.jpg</td>\n",
       "      <td>cat</td>\n",
       "      <td>https://www.sciencenews.org/wp-content/uploads/2020/03/033120_HT_covid-cat_feat-1028x579.jpg</td>\n",
       "    </tr>\n",
       "    <tr>\n",
       "      <th>4</th>\n",
       "      <td>scraped_images/cat/671ccc5b51.jpg</td>\n",
       "      <td>cat</td>\n",
       "      <td>https://c.pxhere.com/photos/37/30/cat_oriental_cute_white_animals_siamese_short_haired_kitten-1412250.jpg!d</td>\n",
       "    </tr>\n",
       "    <tr>\n",
       "      <th>5</th>\n",
       "      <td>scraped_images/cat/7de9c24e5c.jpg</td>\n",
       "      <td>cat</td>\n",
       "      <td>http://mymodernmet.com/wp/wp-content/uploads/2017/03/gabrielius-khiterer-stray-cats-11.jpg</td>\n",
       "    </tr>\n",
       "    <tr>\n",
       "      <th>6</th>\n",
       "      <td>scraped_images/cat/a6a645f3cd.jpg</td>\n",
       "      <td>cat</td>\n",
       "      <td>http://purrtacular.com/wp-content/uploads/2017/09/maya-extra-chromosome-cat-7.jpg</td>\n",
       "    </tr>\n",
       "    <tr>\n",
       "      <th>7</th>\n",
       "      <td>scraped_images/cat/d439145b0d.jpg</td>\n",
       "      <td>cat</td>\n",
       "      <td>https://scitechdaily.com/images/Cat-COVID-19-Mask.jpg</td>\n",
       "    </tr>\n",
       "    <tr>\n",
       "      <th>8</th>\n",
       "      <td>scraped_images/cat/4e0250916f.jpg</td>\n",
       "      <td>cat</td>\n",
       "      <td>https://www.askideas.com/media/25/American-Shorthair-Cat-Face-Picture.jpg</td>\n",
       "    </tr>\n",
       "    <tr>\n",
       "      <th>9</th>\n",
       "      <td>scraped_images/cat/a95061b4ae.jpg</td>\n",
       "      <td>cat</td>\n",
       "      <td>https://htc-wallpaper.com/wp-content/uploads/2015/05/Cute-cat-licking-its-paw.jpg</td>\n",
       "    </tr>\n",
       "    <tr>\n",
       "      <th>10</th>\n",
       "      <td>scraped_images/dog/9b59f312a8.jpg</td>\n",
       "      <td>dog</td>\n",
       "      <td>https://jooinn.com/images/dog-67.jpg</td>\n",
       "    </tr>\n",
       "    <tr>\n",
       "      <th>11</th>\n",
       "      <td>scraped_images/dog/dae216cf27.jpg</td>\n",
       "      <td>dog</td>\n",
       "      <td>https://www.sciencealert.com/images/articles/processed/dog-doubt_1024.jpg</td>\n",
       "    </tr>\n",
       "    <tr>\n",
       "      <th>12</th>\n",
       "      <td>scraped_images/dog/88bb07cac8.jpg</td>\n",
       "      <td>dog</td>\n",
       "      <td>http://www.parade.pet/assets-v2/images/dog/img-dogs/02.jpg</td>\n",
       "    </tr>\n",
       "    <tr>\n",
       "      <th>13</th>\n",
       "      <td>scraped_images/dog/d264ab59b0.jpg</td>\n",
       "      <td>dog</td>\n",
       "      <td>http://www.dogreference.com/wp-content/uploads/2014/01/bigstock-Dog-Pug-35116394-ELEN.jpg</td>\n",
       "    </tr>\n",
       "    <tr>\n",
       "      <th>14</th>\n",
       "      <td>scraped_images/dog/ba0ce878e0.jpg</td>\n",
       "      <td>dog</td>\n",
       "      <td>http://4.bp.blogspot.com/-up_IKtLpyjg/TaETE35x4jI/AAAAAAAAG_Y/wGrZyCkMJ1c/s1600/Dalmatian-dog6.jpg</td>\n",
       "    </tr>\n",
       "    <tr>\n",
       "      <th>15</th>\n",
       "      <td>scraped_images/dog/045bb79206.jpg</td>\n",
       "      <td>dog</td>\n",
       "      <td>https://d1nvdmt0osh3cv.cloudfront.net/media/catalog/product/cache/1/k/a/e/image/1800x1800/acd9cc645a7ef0ba358bd1c2969a48c8/els1312-bla.jpg</td>\n",
       "    </tr>\n",
       "    <tr>\n",
       "      <th>16</th>\n",
       "      <td>scraped_images/dog/1524e33153.jpg</td>\n",
       "      <td>dog</td>\n",
       "      <td>https://www.keystonepuppies.com/wp-content/uploads/2019/01/boxer-dog-grown.jpg</td>\n",
       "    </tr>\n",
       "    <tr>\n",
       "      <th>17</th>\n",
       "      <td>scraped_images/dog/f8301d8187.jpg</td>\n",
       "      <td>dog</td>\n",
       "      <td>https://hddesktopwallpapers.in/wp-content/uploads/2015/09/dog-wallpaper-for-mobile.jpg</td>\n",
       "    </tr>\n",
       "    <tr>\n",
       "      <th>18</th>\n",
       "      <td>scraped_images/dog/8cee87adc0.jpg</td>\n",
       "      <td>dog</td>\n",
       "      <td>https://sydneydruglawyers.com.au/wp-content/uploads/sniffer-dog-1024x1024.jpg</td>\n",
       "    </tr>\n",
       "    <tr>\n",
       "      <th>19</th>\n",
       "      <td>scraped_images/horse/6851ee1b64.jpg</td>\n",
       "      <td>horse</td>\n",
       "      <td>https://arabianhorseworld.com/wp-content/uploads/2017/08/08-190917_TOC.jpg</td>\n",
       "    </tr>\n",
       "    <tr>\n",
       "      <th>20</th>\n",
       "      <td>scraped_images/horse/3f1f84d4b9.jpg</td>\n",
       "      <td>horse</td>\n",
       "      <td>https://miro.medium.com/max/10368/1*ES15OJWo_LhqzYSI2JYanA.jpeg</td>\n",
       "    </tr>\n",
       "    <tr>\n",
       "      <th>21</th>\n",
       "      <td>scraped_images/horse/21756204b2.jpg</td>\n",
       "      <td>horse</td>\n",
       "      <td>https://castlehorsefeeds.com/wp-content/uploads/2019/03/spring-horses.jpg</td>\n",
       "    </tr>\n",
       "    <tr>\n",
       "      <th>22</th>\n",
       "      <td>scraped_images/horse/22e3ddd735.jpg</td>\n",
       "      <td>horse</td>\n",
       "      <td>https://www.hdwallpapers.in/download/brown_horse_with_background_of_sunset_and_clouds_hd_horse-HD.jpg</td>\n",
       "    </tr>\n",
       "    <tr>\n",
       "      <th>23</th>\n",
       "      <td>scraped_images/horse/8adbd9567c.jpg</td>\n",
       "      <td>horse</td>\n",
       "      <td>https://assets.answersingenesis.org/img/cms/content/contentnode/og_image/horse-course.jpg</td>\n",
       "    </tr>\n",
       "    <tr>\n",
       "      <th>24</th>\n",
       "      <td>scraped_images/horse/6d8546a751.jpg</td>\n",
       "      <td>horse</td>\n",
       "      <td>https://wallpapertag.com/wallpaper/full/2/d/5/967972-beautiful-friesian-horse-wallpaper-2617x1850-mac.jpg</td>\n",
       "    </tr>\n",
       "    <tr>\n",
       "      <th>25</th>\n",
       "      <td>scraped_images/horse/b821ac7db9.jpg</td>\n",
       "      <td>horse</td>\n",
       "      <td>http://thestyleinspiration.com/wp-content/uploads/2019/10/Arabian-Horses-.jpg</td>\n",
       "    </tr>\n",
       "  </tbody>\n",
       "</table>\n",
       "</div>"
      ],
      "text/plain": [
       "                              file_path  ...                                                                                                                                                                                                        orig_url\n",
       "0     scraped_images/cat/d4df5a839c.jpg  ...                                                                                                                      https://upload.wikimedia.org/wikipedia/commons/d/dc/Grumpy_Cat_(14556024763)_(cropped).jpg\n",
       "1     scraped_images/cat/b3a14c4060.jpg  ...                                                                                                                      https://wallup.net/wp-content/uploads/2019/09/708281-kittens-kitten-cat-cats-baby-cute.jpg\n",
       "2     scraped_images/cat/74da23aa13.jpg  ...  https://upload.wikimedia.org/wikipedia/commons/thumb/6/66/An_up-close_picture_of_a_curious_male_domestic_shorthair_tabby_cat.jpg/1200px-An_up-close_picture_of_a_curious_male_domestic_shorthair_tabby_cat.jpg\n",
       "3     scraped_images/cat/7655f2e055.jpg  ...                                                                                                                    https://www.sciencenews.org/wp-content/uploads/2020/03/033120_HT_covid-cat_feat-1028x579.jpg\n",
       "4     scraped_images/cat/671ccc5b51.jpg  ...                                                                                                     https://c.pxhere.com/photos/37/30/cat_oriental_cute_white_animals_siamese_short_haired_kitten-1412250.jpg!d\n",
       "5     scraped_images/cat/7de9c24e5c.jpg  ...                                                                                                                      http://mymodernmet.com/wp/wp-content/uploads/2017/03/gabrielius-khiterer-stray-cats-11.jpg\n",
       "6     scraped_images/cat/a6a645f3cd.jpg  ...                                                                                                                               http://purrtacular.com/wp-content/uploads/2017/09/maya-extra-chromosome-cat-7.jpg\n",
       "7     scraped_images/cat/d439145b0d.jpg  ...                                                                                                                                                           https://scitechdaily.com/images/Cat-COVID-19-Mask.jpg\n",
       "8     scraped_images/cat/4e0250916f.jpg  ...                                                                                                                                       https://www.askideas.com/media/25/American-Shorthair-Cat-Face-Picture.jpg\n",
       "9     scraped_images/cat/a95061b4ae.jpg  ...                                                                                                                               https://htc-wallpaper.com/wp-content/uploads/2015/05/Cute-cat-licking-its-paw.jpg\n",
       "10    scraped_images/dog/9b59f312a8.jpg  ...                                                                                                                                                                            https://jooinn.com/images/dog-67.jpg\n",
       "11    scraped_images/dog/dae216cf27.jpg  ...                                                                                                                                       https://www.sciencealert.com/images/articles/processed/dog-doubt_1024.jpg\n",
       "12    scraped_images/dog/88bb07cac8.jpg  ...                                                                                                                                                      http://www.parade.pet/assets-v2/images/dog/img-dogs/02.jpg\n",
       "13    scraped_images/dog/d264ab59b0.jpg  ...                                                                                                                       http://www.dogreference.com/wp-content/uploads/2014/01/bigstock-Dog-Pug-35116394-ELEN.jpg\n",
       "14    scraped_images/dog/ba0ce878e0.jpg  ...                                                                                                              http://4.bp.blogspot.com/-up_IKtLpyjg/TaETE35x4jI/AAAAAAAAG_Y/wGrZyCkMJ1c/s1600/Dalmatian-dog6.jpg\n",
       "15    scraped_images/dog/045bb79206.jpg  ...                                                                      https://d1nvdmt0osh3cv.cloudfront.net/media/catalog/product/cache/1/k/a/e/image/1800x1800/acd9cc645a7ef0ba358bd1c2969a48c8/els1312-bla.jpg\n",
       "16    scraped_images/dog/1524e33153.jpg  ...                                                                                                                                  https://www.keystonepuppies.com/wp-content/uploads/2019/01/boxer-dog-grown.jpg\n",
       "17    scraped_images/dog/f8301d8187.jpg  ...                                                                                                                          https://hddesktopwallpapers.in/wp-content/uploads/2015/09/dog-wallpaper-for-mobile.jpg\n",
       "18    scraped_images/dog/8cee87adc0.jpg  ...                                                                                                                                   https://sydneydruglawyers.com.au/wp-content/uploads/sniffer-dog-1024x1024.jpg\n",
       "19  scraped_images/horse/6851ee1b64.jpg  ...                                                                                                                                      https://arabianhorseworld.com/wp-content/uploads/2017/08/08-190917_TOC.jpg\n",
       "20  scraped_images/horse/3f1f84d4b9.jpg  ...                                                                                                                                                 https://miro.medium.com/max/10368/1*ES15OJWo_LhqzYSI2JYanA.jpeg\n",
       "21  scraped_images/horse/21756204b2.jpg  ...                                                                                                                                       https://castlehorsefeeds.com/wp-content/uploads/2019/03/spring-horses.jpg\n",
       "22  scraped_images/horse/22e3ddd735.jpg  ...                                                                                                           https://www.hdwallpapers.in/download/brown_horse_with_background_of_sunset_and_clouds_hd_horse-HD.jpg\n",
       "23  scraped_images/horse/8adbd9567c.jpg  ...                                                                                                                       https://assets.answersingenesis.org/img/cms/content/contentnode/og_image/horse-course.jpg\n",
       "24  scraped_images/horse/6d8546a751.jpg  ...                                                                                                       https://wallpapertag.com/wallpaper/full/2/d/5/967972-beautiful-friesian-horse-wallpaper-2617x1850-mac.jpg\n",
       "25  scraped_images/horse/b821ac7db9.jpg  ...                                                                                                                                   http://thestyleinspiration.com/wp-content/uploads/2019/10/Arabian-Horses-.jpg\n",
       "\n",
       "[26 rows x 3 columns]"
      ]
     },
     "execution_count": null,
     "metadata": {},
     "output_type": "execute_result"
    }
   ],
   "source": [
    "df = img_scrape(search_terms, target_path=target_dir, num_images=num_images, verbose=True)\n",
    "print(len(df),\"images\")\n",
    "df"
   ]
  },
  {
   "cell_type": "markdown",
   "metadata": {},
   "source": [
    "Let's see what's been saved to disk:"
   ]
  },
  {
   "cell_type": "code",
   "execution_count": null,
   "metadata": {},
   "outputs": [
    {
     "name": "stdout",
     "output_type": "stream",
     "text": [
      "scraped_images/cat:\n",
      "4e0250916f.jpg\t74da23aa13.jpg\t7de9c24e5c.jpg\ta95061b4ae.jpg\td439145b0d.jpg\n",
      "671ccc5b51.jpg\t7655f2e055.jpg\ta6a645f3cd.jpg\tb3a14c4060.jpg\td4df5a839c.jpg\n",
      "\n",
      "scraped_images/dog:\n",
      "045bb79206.jpg\t88bb07cac8.jpg\t9b59f312a8.jpg\td264ab59b0.jpg\tf8301d8187.jpg\n",
      "1524e33153.jpg\t8cee87adc0.jpg\tba0ce878e0.jpg\tdae216cf27.jpg\n",
      "\n",
      "scraped_images/horse:\n",
      "21756204b2.jpg\t3f1f84d4b9.jpg\t6d8546a751.jpg\tb821ac7db9.jpg\n",
      "22e3ddd735.jpg\t6851ee1b64.jpg\t8adbd9567c.jpg\n"
     ]
    }
   ],
   "source": [
    "!ls {target_dir}/*"
   ]
  },
  {
   "cell_type": "markdown",
   "metadata": {},
   "source": [
    "Now we should probably inspect the data to see if it looks good or if we accidentally grabbed images we don't want. \n",
    "\n",
    "### Extra: Interactive Image Browser (Slider)"
   ]
  },
  {
   "cell_type": "code",
   "execution_count": null,
   "metadata": {},
   "outputs": [
    {
     "name": "stdout",
     "output_type": "stream",
     "text": [
      "Loaded 10 images for cat\n",
      "Loaded 9 images for dog\n",
      "Loaded 7 images for horse\n"
     ]
    }
   ],
   "source": [
    "# work in progress\n",
    "class Category():\n",
    "    def __init__(self):\n",
    "        self.images = []\n",
    "        self.urls = []\n",
    "\n",
    "    def __len__(self):\n",
    "        ni, nu = len(self.images), len(self.urls)\n",
    "        #assert ni==nu\n",
    "        return ni\n",
    "\n",
    "# Load images from disk\n",
    "dataset = {key: Category() for key in search_terms}\n",
    "for term in search_terms:\n",
    "    dir = term.replace(' ','_')  # spaces to underscores for disk access\n",
    "    dir = f'{target_dir}/{dir}/'\n",
    "    dataset[term].images = [Image.open(item) for i in [glob.glob(f'{dir}*.{ext}') for ext in [\"jpg\",\"gif\",\"png\",\"tga\"]] for item in i]\n",
    "    print(f'Loaded {len(dataset[term].images)} images for {term}')"
   ]
  },
  {
   "cell_type": "code",
   "execution_count": null,
   "metadata": {},
   "outputs": [],
   "source": [
    "%matplotlib inline"
   ]
  },
  {
   "cell_type": "code",
   "execution_count": null,
   "metadata": {},
   "outputs": [],
   "source": [
    "#export\n",
    "def browse_images(dataset):\n",
    "    print(\"Select the class from the drop-down, and the image by moving the slider with the mouse or the arrow keys.\")\n",
    "    @interact(term=search_terms)\n",
    "    def _browse_images(term):\n",
    "        n = len(dataset[term])\n",
    "        def view_image(i):\n",
    "            plt.imshow(dataset[term].images[i], cmap=plt.cm.gray_r, interpolation='nearest')\n",
    "            plt.show()\n",
    "        interact(view_image, i=(0,n-1))"
   ]
  },
  {
   "cell_type": "code",
   "execution_count": null,
   "metadata": {},
   "outputs": [
    {
     "name": "stdout",
     "output_type": "stream",
     "text": [
      "Select the class from the drop-down, and the image by moving the slider with the mouse or the arrow keys.\n"
     ]
    },
    {
     "data": {
      "application/vnd.jupyter.widget-view+json": {
       "model_id": "58d07d5ade2047a9b16c54915eb68af8",
       "version_major": 2,
       "version_minor": 0
      },
      "text/plain": [
       "interactive(children=(Dropdown(description='term', options=('cat', 'dog', 'horse'), value='cat'), Output()), _…"
      ]
     },
     "metadata": {},
     "output_type": "display_data"
    }
   ],
   "source": [
    "browse_images(dataset)"
   ]
  },
  {
   "cell_type": "markdown",
   "metadata": {},
   "source": [
    "Let's make a bunch of thumbnails. So, for every file in target_path, load the image, shrink it, and save it to a similar filename in a similar directory structure "
   ]
  },
  {
   "cell_type": "code",
   "execution_count": null,
   "metadata": {},
   "outputs": [],
   "source": [
    "#export \n",
    "try:\n",
    "    from google.colab import drive\n",
    "    IN_COLAB = True\n",
    "except:\n",
    "    IN_COLAB = False\n",
    "\n",
    "def get_thumb_urls(\n",
    "    image_paths=None,                 # files we want; \"None\" = all in images_dir\n",
    "    images_dir:str=\"scraped_images\",  # directory of full size images, no / on end\n",
    "    size:tuple=(75,75),             # max dims of thumbnail; see PIL Image.thumbnail()\n",
    "    verbose:bool=False                # whether to print status messages or not\n",
    "    ) -> list:\n",
    "    \"\"\"\n",
    "    This will save thumbnails of images and provide 'hosted' urls to them if on Colab\n",
    "    \"\"\"\n",
    "\n",
    "    thumbs_copy_dir = images_dir + \"_thumbs\"\n",
    "    if IN_COLAB:\n",
    "        print(\"Generating (URLS of) thumbnail images...\")\n",
    "        drive.mount('/gdrive')\n",
    "        thumbs_copy_dir = '/gdrive/My Drive/'+ thumbs_copy_dir\n",
    "    shutil.rmtree(thumbs_copy_dir, ignore_errors=True)      # clear out thumbs dir\n",
    "\n",
    "    # get all the image filenames with full paths\n",
    "    if image_paths is None:\n",
    "        image_paths = [path for path in Path(images_dir).resolve().rglob('*') if path.suffix.lower() in ['.jpg', '.png']]\n",
    "    \n",
    "    # create the thumbnails and save them to Drive \n",
    "    thumb_paths = []\n",
    "    for fname in image_paths:\n",
    "        fname = Path(fname) # just as a precaution\n",
    "        tname = Path(thumbs_copy_dir) / fname.parent.name / fname.name \n",
    "        tname.parent.mkdir(parents=True, exist_ok=True)  # create the parent directories before writing files\n",
    "        with Image.open(fname) as im: \n",
    "            im.thumbnail(size)\n",
    "            if verbose: print(f\"Attempting to save {tname}\")\n",
    "            try:\n",
    "                im.save(tname)\n",
    "            except OSError:  # sometimes getting jpg save errors, try those as png \n",
    "                tname = Path(str(tname) +'.png')\n",
    "                im.save(tname)\n",
    "        thumb_paths.append(tname)\n",
    "\n",
    "    if not IN_COLAB: return [str(t) for t in thumb_paths]  # For local runs, need to un-Path in order to serialize JSON\n",
    "        \n",
    "    print(f\"Thumbnails saved to Google Drive in {thumbs_copy_dir}/\\nWaiting on Google Drive until URLs are ready.\\n\")\n",
    "\n",
    "    # get thumbnail URLs from Drive (might have to wait a bit for them)\n",
    "    urls = []\n",
    "    for tp in thumb_paths:\n",
    "        count, timeout, fid = 0, 60, \"local-225\"  # need a loop in case Drive needs time to generate FileID\n",
    "        while ('local-' in fid) and (count < timeout):\n",
    "            fid, count = subprocess.getoutput(f\"xattr -p 'user.drive.id' '{tp}' \"), count+1\n",
    "            if 'local-' in fid: time.sleep(1)      # url still isn't ready; wait a second\n",
    "        if 'local-' in fid: \n",
    "            print(f\"Error, unable to generate URL for {fid}\")\n",
    "        else:                                    \n",
    "            urls.append(f'https://drive.google.com/uc?id={fid}')\n",
    "            if verbose: print(f\"url = {urls[-1]}\")\n",
    "            \n",
    "    return urls"
   ]
  },
  {
   "cell_type": "code",
   "execution_count": null,
   "metadata": {},
   "outputs": [
    {
     "name": "stdout",
     "output_type": "stream",
     "text": [
      "Generating (URLS of) thumbnail images...\n",
      "Mounted at /gdrive\n",
      "Thumbnails saved to Google Drive in /gdrive/My Drive/scraped_images_thumbs/\n",
      "Waiting on Google Drive until URLs are ready.\n",
      "\n",
      "urls =  ['https://drive.google.com/uc?id=1-vlWsaAgAWUDqGU6QYEnE6dNc7FXOTIc', 'https://drive.google.com/uc?id=1-lIY7X34i05A0gn4b6PqOK5Fk3nuPdLD', 'https://drive.google.com/uc?id=1-kJRrd4p1EBgCUlMKWA0stS8aqdPuY3z', 'https://drive.google.com/uc?id=1-fEvf_HOQYNsk9-7k5Mi50eqsnWcgQe3', 'https://drive.google.com/uc?id=1-dVbr5RQ4qfFo2GY7m0w_jBvyzCVsfyS', 'https://drive.google.com/uc?id=1-dMbOceudlgpvtbuQ7T2hVQv6sVF_uga', 'https://drive.google.com/uc?id=1-cQ8bLx0P68BlriGnU9S-akARiUueRqE', 'https://drive.google.com/uc?id=1-bDmFoUTrAO6U7wTjQMDMKaV78YbRA59', 'https://drive.google.com/uc?id=1-WNGQ9gY8zmVjA6lKdV2EhF9Dyzm6c2x', 'https://drive.google.com/uc?id=1-WMPKgQVd5xs6Tgp5HqV0RyskfsZj152', 'https://drive.google.com/uc?id=1-VeIW67o5XjN3nZRrBSf687lVij-m6is', 'https://drive.google.com/uc?id=1-UxdWKYaldoUei5LMFKt-HN4f7bCl7mq', 'https://drive.google.com/uc?id=1-NKoGy27LuAi2_CvIeyhUQ_xRQNUQaPj', 'https://drive.google.com/uc?id=1-LtIWKsy8sNKGJbZV6LFUv8-6GVTacPO', 'https://drive.google.com/uc?id=1-JXRI5txr0sPW4w8RKy7Yyex3YMPdcat', 'https://drive.google.com/uc?id=10a5gTlb0QJY_Xazi0_G9CYuVcoHCML2_', 'https://drive.google.com/uc?id=10_byNfWmYuNLv7JyJLqSIJJ4Rf_zqdZv', 'https://drive.google.com/uc?id=10Zg6qkMxLR5aCC6-BTtC6a81Xlb2MKds', 'https://drive.google.com/uc?id=10YfNWjmKJaWUP9YbvpPDPsbeF0d7zq6I', 'https://drive.google.com/uc?id=10Q-KjRL-rujynd2bgmjLnDCAsDt8xKXy', 'https://drive.google.com/uc?id=10Kwxc_I4G1jRNKB8m0CD_M7m4AKALXT3', 'https://drive.google.com/uc?id=10GoSBSXQgrZGMql8dNCdXvSyFvdO80QI', 'https://drive.google.com/uc?id=108iH97rMsjkB_QB9xPBrogb7SHxgkuE0', 'https://drive.google.com/uc?id=107Mqm22PjCGhnR8SiS7ljXnue2YwSbSI', 'https://drive.google.com/uc?id=106anaMaaOHdjzX7RBlK2cS5m7fd6jqhX', 'https://drive.google.com/uc?id=1-zEhTKGottyIeHepdldYi74p1Y5suKuG']\n"
     ]
    },
    {
     "data": {
      "text/html": [
       "<img src=https://drive.google.com/uc?id=1-vlWsaAgAWUDqGU6QYEnE6dNc7FXOTIc>"
      ],
      "text/plain": [
       "<IPython.core.display.HTML object>"
      ]
     },
     "execution_count": null,
     "metadata": {},
     "output_type": "execute_result"
    }
   ],
   "source": [
    "urls = get_thumb_urls(images_dir=target_dir)\n",
    "print(\"urls = \",urls)\n",
    "url = urls[0] if IN_COLAB else 'https://drive.google.com/uc?id=1owIYMyW7yaYlZ4QcJ8P3iIxkl_mCN-GX'\n",
    "HTML(f\"<img src={url}>\")"
   ]
  },
  {
   "cell_type": "code",
   "execution_count": null,
   "metadata": {},
   "outputs": [],
   "source": [
    "#export \n",
    "def exhibit_urls(targ, labels=['cat','dog','horse']):\n",
    "    \"\"\"grabs a set of urls, in order of images that match the labels corresponding to targets\"\"\"\n",
    "    \n",
    "    dim = targ.max()+1\n",
    "    url_store = [[] for t in range(dim)]\n",
    "    for t in range(dim): # for each set of targets, scrape that many urls for the label\n",
    "        label, n = labels[t], np.sum(targ == t )# count how many of each target there are\n",
    "        url_store[t] = search_images_ddg(label)\n",
    "    return [ url_store[targ[t]].pop(0) for t in range(len(targ)) ] # supply a url matching each target"
   ]
  },
  {
   "cell_type": "code",
   "execution_count": null,
   "metadata": {},
   "outputs": [],
   "source": [
    "prob, targ = calc_prob(n=400)\n",
    "urls = exhibit_urls(targ, ['cat','dog','horse'])\n",
    "assert len(targ) == len(urls)"
   ]
  },
  {
   "cell_type": "code",
   "execution_count": null,
   "metadata": {},
   "outputs": [],
   "source": []
  }
 ],
 "metadata": {
  "kernelspec": {
   "display_name": "Python 3",
   "language": "python",
   "name": "python3"
  }
 },
 "nbformat": 4,
 "nbformat_minor": 0
}
