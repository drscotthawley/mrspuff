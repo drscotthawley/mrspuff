{
 "cells": [
  {
   "cell_type": "code",
   "execution_count": null,
   "metadata": {},
   "outputs": [],
   "source": [
    "# default_exp scrape"
   ]
  },
  {
   "cell_type": "code",
   "execution_count": null,
   "metadata": {},
   "outputs": [],
   "source": [
    "#hide \n",
    "# Do this on Colab and then restart runtime:\n",
    "#!pip install fastai --upgrade | grep -v 'already satisfied'\n",
    "#!pip install mrspuff --upgrade | grep -v 'already satisfied'"
   ]
  },
  {
   "cell_type": "markdown",
   "metadata": {},
   "source": [
    "# scrape\n",
    "\n",
    "> This is a collection of routines for dataset-building via web scraping, intended to be run on Google Colab"
   ]
  },
  {
   "cell_type": "markdown",
   "metadata": {},
   "source": [
    "This is modified from Google-scraping code first shared [by akashgshastri on Fast.ai forums](https://forums.fast.ai/t/google-image-scraper/79682/6) which I then updated.\n",
    "\n",
    "*Note: Turns out that Jeremy Howard & Sylvain Gugger had already taught scraping in the [2020 version of the FastAI course](https://github.com/fastai/course2020), and provided some useful routines. So, the code I'd had written previously, I'm going to remove and replace with slighly modified versions of theirs.  (In particular, their DuckDuckGo scraper doesn't require any Selenium ChromeDriver like the Google-scraping code I'd written. Which is great because that was messing up the CI on GitHub anyway.)*\n",
    "\n"
   ]
  },
  {
   "cell_type": "code",
   "execution_count": null,
   "metadata": {},
   "outputs": [],
   "source": [
    "#export\n",
    "from fastcore.basics import *\n",
    "from fastai.vision.all import *\n",
    "import numpy as np \n",
    "import re\n",
    "import requests \n",
    "import json \n",
    "import os, io  \n",
    "from PIL import Image, ImageOps\n",
    "import hashlib\n",
    "import shutil\n",
    "import glob\n",
    "from pathlib import Path\n",
    "import subprocess\n",
    "import time \n",
    "from IPython.display import HTML\n",
    "import matplotlib.pyplot as plt\n",
    "from ipywidgets import interact\n",
    "from mrspuff.utils import calc_prob, on_colab \n",
    "import pandas as pd"
   ]
  },
  {
   "cell_type": "code",
   "execution_count": null,
   "metadata": {},
   "outputs": [],
   "source": [
    "#export\n",
    "\n",
    "#modified from fastbook utils, https://github.com/fastai/course20/blob/master/fastbook/__init__.py\n",
    "#by Jeremy Howard and Sylvain Gugger.  Just removed the .decode() formatting, and replaced L() with list()\n",
    "def search_images_ddg(key,max_n=200):\n",
    "    \"\"\"By Howard & Gugger: Search for 'key' with DuckDuckGo and return a unique urls of 'max_n' images\n",
    "    (Adopted from https://github.com/deepanprabhu/duckduckgo-images-api)\n",
    "    \"\"\"\n",
    "    url        = 'https://duckduckgo.com/'\n",
    "    params     = {'q':key}\n",
    "    res        = requests.post(url,data=params)\n",
    "    searchObj  = re.search(r'vqd=([\\d-]+)\\&',res.text)\n",
    "    if not searchObj: print('Token Parsing Failed !'); return\n",
    "    requestUrl = url + 'i.js'\n",
    "    headers    = {'User-Agent': 'Mozilla/5.0 (X11; Ubuntu; Linux x86_64; rv:71.0) Gecko/20100101 Firefox/71.0'}\n",
    "    params     = (('l','us-en'),('o','json'),('q',key),('vqd',searchObj.group(1)),('f',',,,'),('p','1'),('v7exp','a'))\n",
    "    urls       = []\n",
    "    while True:\n",
    "        try:\n",
    "            res  = requests.get(requestUrl,headers=headers,params=params)\n",
    "            data = json.loads(res.text)\n",
    "            for obj in data['results']:\n",
    "                urls.append(obj['image'])\n",
    "                max_n = max_n - 1\n",
    "                if max_n < 1: return list(set(urls))     # dedupe\n",
    "            if 'next' not in data: return list(set(urls))\n",
    "            requestUrl = url + data['next']\n",
    "        except:\n",
    "            pass"
   ]
  },
  {
   "cell_type": "code",
   "execution_count": null,
   "metadata": {},
   "outputs": [],
   "source": [
    "#export \n",
    "def download_and_save(folder_path:str, url:str, verbose:bool=True):\n",
    "    success = False\n",
    "    try:\n",
    "        image_content = requests.get(url).content\n",
    "\n",
    "    except Exception as e:\n",
    "        print(f\"ERROR - Could not download {url} - {e}\")\n",
    "    \n",
    "    try:\n",
    "        image_file = io.BytesIO(image_content)\n",
    "        image = Image.open(image_file).convert('RGB')\n",
    "        file_path = os.path.join(folder_path,hashlib.sha1(image_content).hexdigest()[:10] + '.jpg')\n",
    "        with open(file_path, 'wb') as f:\n",
    "            image.save(f, \"JPEG\", quality=85)\n",
    "        #if verbose:  print(f\"SUCCESS - saved {url} - as {file_path}\")\n",
    "        success = True\n",
    "    except Exception as e:\n",
    "        print(f\"ERROR - Could not save {url} - {e}\")\n",
    "        file_path = ''\n",
    "    return file_path\n",
    "    \n",
    "\n",
    "def search_and_download(search_term:str, df=None, target_path:str='./images', num_images:int=10, verbose:bool=True):\n",
    "    \n",
    "    target_folder = os.path.join(target_path,'_'.join(search_term.lower().split(' ')))\n",
    "\n",
    "    if not os.path.exists(target_folder):\n",
    "        os.makedirs(target_folder)\n",
    "\n",
    "    try_urls = search_images_ddg(search_term, max_n=num_images)\n",
    "    print(f\"...got {len(try_urls)} urls for term '{search_term}'\")\n",
    "\n",
    "    if df is None: df = pd.DataFrame(columns = ['file_path', 'label', 'orig_url'])\n",
    "    for url in try_urls:\n",
    "        file_path = download_and_save(target_folder, url, verbose=verbose)\n",
    "        if file_path != '':\n",
    "            df = df.append({ 'file_path' : file_path, 'label':search_term, 'orig_url' : url}, ignore_index = True)\n",
    "    \n",
    "    if verbose: print(f\"{search_term}: Expected {num_images}, succeeded at saving {len(df)}.\")\n",
    "    return df   # return a dataframe storing successully downloaded files and urls they came from\n"
   ]
  },
  {
   "cell_type": "code",
   "execution_count": null,
   "metadata": {},
   "outputs": [],
   "source": [
    "#export\n",
    "def img_scrape(search_terms:list, target_path:str='./.images', num_images:int=10, verbose:bool=True):\n",
    "    \n",
    "     # clear out directory before use\n",
    "    for category_path in glob.glob(os.path.join(target_path, \"*\")):\n",
    "        shutil.rmtree(category_path)\n",
    "        \n",
    "    df = pd.DataFrame(columns = ['file_path', 'label', 'orig_url'])\n",
    "    for term in search_terms:\n",
    "        if verbose: print(f\"Searching on term '{term}'...\")\n",
    "        #df = pd.concat([df, search_and_download(search_term = term, target_path=target_path, num_images=num_images)], axis=0)\n",
    "        df = df.append(search_and_download(search_term = term, target_path=target_path, num_images=num_images), ignore_index = True)\n",
    "\n",
    "    return df # return list of file paths and original urls"
   ]
  },
  {
   "cell_type": "code",
   "execution_count": null,
   "metadata": {},
   "outputs": [],
   "source": [
    "'''\n",
    "### Variables to adjust\n",
    "\n",
    "1. set search_term to an array of strings for which you want images\n",
    "2. set num_images to the number of images you want for each class\n",
    "3. set target_path to the path where you want images dataset created.\n",
    "'''\n",
    "search_terms = ['cat','dog','horse']                    \n",
    "#search_terms = [\"les paul guitar\", \"stratocaster guitar\"] # H/T Nathan Sepulveda\n",
    "#search_terms = [\"alligator\", \"crocodile\"]                 # tricky\n",
    "#search_terms = [\"blue sky\", \"stop sign\"]                  # easy: these separate by color!\n",
    "#search_terms = [\"smart person\", \"stupid person\"]          # this is going to be a bad idea! (ethics)\n",
    "\n",
    "num_images = 10\n",
    "target_dir = 'scraped_images'            # where to save to"
   ]
  },
  {
   "cell_type": "code",
   "execution_count": null,
   "metadata": {},
   "outputs": [
    {
     "name": "stdout",
     "output_type": "stream",
     "text": [
      "Searching on term 'cat'...\n",
      "...got 10 urls for term 'cat'\n",
      "ERROR - Could not save https://www.siberiancatsinformation.com/wp-content/uploads/2020/06/45502005281_db333d028c_o-scaled.jpg - cannot identify image file <_io.BytesIO object at 0x7f7af0f20e90>\n",
      "cat: Expected 10, succeeded at saving 9.\n",
      "Searching on term 'dog'...\n",
      "...got 10 urls for term 'dog'\n",
      "ERROR - Could not save https://mooshme.com/wp-content/uploads/2017/02/MooshMe-Collie.jpg - cannot identify image file <_io.BytesIO object at 0x7f7af0eb4a70>\n",
      "dog: Expected 10, succeeded at saving 9.\n",
      "Searching on term 'horse'...\n",
      "...got 10 urls for term 'horse'\n",
      "ERROR - Could not save http://www.hdwallpaperslife.com/wp-content/uploads/2019/02/5c6a9f8635e6e.jpg - cannot identify image file <_io.BytesIO object at 0x7f7af0eb4cb0>\n",
      "ERROR - Could not save https://horsebreedslist.com/wp-content/uploads/2021/01/arab-horse.jpg - cannot identify image file <_io.BytesIO object at 0x7f7af0eb4cb0>\n",
      "ERROR - Could not save https://horsespirit.site/wp-content/uploads/2020/03/fries1.jpg - cannot identify image file <_io.BytesIO object at 0x7f7af0eb4e30>\n",
      "horse: Expected 10, succeeded at saving 7.\n",
      "25 images\n"
     ]
    },
    {
     "data": {
      "text/html": [
       "<div>\n",
       "<style scoped>\n",
       "    .dataframe tbody tr th:only-of-type {\n",
       "        vertical-align: middle;\n",
       "    }\n",
       "\n",
       "    .dataframe tbody tr th {\n",
       "        vertical-align: top;\n",
       "    }\n",
       "\n",
       "    .dataframe thead th {\n",
       "        text-align: right;\n",
       "    }\n",
       "</style>\n",
       "<table border=\"1\" class=\"dataframe\">\n",
       "  <thead>\n",
       "    <tr style=\"text-align: right;\">\n",
       "      <th></th>\n",
       "      <th>file_path</th>\n",
       "      <th>label</th>\n",
       "      <th>orig_url</th>\n",
       "    </tr>\n",
       "  </thead>\n",
       "  <tbody>\n",
       "    <tr>\n",
       "      <th>0</th>\n",
       "      <td>scraped_images/cat/7f429fb7c2.jpg</td>\n",
       "      <td>cat</td>\n",
       "      <td>https://www.thesprucepets.com/thmb/5tDHikYVxrJXwQCgVhacYo5PS4g=/2121x1414/filters:fill(auto,1)/Madelein_WolfGettyImages-845007724-cff4995e51a749e0a69f529c75447f5b.jpg</td>\n",
       "    </tr>\n",
       "    <tr>\n",
       "      <th>1</th>\n",
       "      <td>scraped_images/cat/384ed12bf5.jpg</td>\n",
       "      <td>cat</td>\n",
       "      <td>https://d.newsweek.com/en/full/1504969/black-cat-kitten-pet-animal-stock-getty.jpg</td>\n",
       "    </tr>\n",
       "    <tr>\n",
       "      <th>2</th>\n",
       "      <td>scraped_images/cat/6ea6b56a70.jpg</td>\n",
       "      <td>cat</td>\n",
       "      <td>https://ukmadcat.com/wp-content/uploads/2019/04/sleepy-cat.jpg</td>\n",
       "    </tr>\n",
       "    <tr>\n",
       "      <th>3</th>\n",
       "      <td>scraped_images/cat/9f56fe3cc7.jpg</td>\n",
       "      <td>cat</td>\n",
       "      <td>https://pbs.twimg.com/media/DUfDNvTVQAA2osS.jpg:large</td>\n",
       "    </tr>\n",
       "    <tr>\n",
       "      <th>4</th>\n",
       "      <td>scraped_images/cat/dbf944bb39.jpg</td>\n",
       "      <td>cat</td>\n",
       "      <td>http://www.trbimg.com/img-5a68a878/turbine/ct-grumpy-cat-lawsuit-20180124</td>\n",
       "    </tr>\n",
       "    <tr>\n",
       "      <th>5</th>\n",
       "      <td>scraped_images/cat/e221f55e4e.jpg</td>\n",
       "      <td>cat</td>\n",
       "      <td>https://wallup.net/wp-content/uploads/2015/06/Goldish-cat-smiles.jpg</td>\n",
       "    </tr>\n",
       "    <tr>\n",
       "      <th>6</th>\n",
       "      <td>scraped_images/cat/20c65dbd42.jpg</td>\n",
       "      <td>cat</td>\n",
       "      <td>https://pixnio.com/free-images/2017/09/26/2017-09-26-07-19-47.jpg</td>\n",
       "    </tr>\n",
       "    <tr>\n",
       "      <th>7</th>\n",
       "      <td>scraped_images/cat/df448c01e0.jpg</td>\n",
       "      <td>cat</td>\n",
       "      <td>http://pulpbits.net/wp-content/uploads/2014/01/tabby-cat.jpg</td>\n",
       "    </tr>\n",
       "    <tr>\n",
       "      <th>8</th>\n",
       "      <td>scraped_images/cat/10448ff709.jpg</td>\n",
       "      <td>cat</td>\n",
       "      <td>https://petsnurturing.com/wp-content/uploads/2018/08/Spotted-cat-breeds-4.jpg</td>\n",
       "    </tr>\n",
       "    <tr>\n",
       "      <th>9</th>\n",
       "      <td>scraped_images/dog/24dd31c9c4.jpg</td>\n",
       "      <td>dog</td>\n",
       "      <td>https://wallup.net/wp-content/uploads/2014/10/animal/Cute_Golden_Dog.jpg</td>\n",
       "    </tr>\n",
       "    <tr>\n",
       "      <th>10</th>\n",
       "      <td>scraped_images/dog/2d03121fbf.jpg</td>\n",
       "      <td>dog</td>\n",
       "      <td>https://wallup.net/wp-content/uploads/2018/10/07/467084-friend-the-dog-husky.jpg</td>\n",
       "    </tr>\n",
       "    <tr>\n",
       "      <th>11</th>\n",
       "      <td>scraped_images/dog/1a890e08f2.jpg</td>\n",
       "      <td>dog</td>\n",
       "      <td>http://wallup.net/wp-content/uploads/2016/01/227050-animals-dog-pebbles.jpg</td>\n",
       "    </tr>\n",
       "    <tr>\n",
       "      <th>12</th>\n",
       "      <td>scraped_images/dog/ca2fa0579f.jpg</td>\n",
       "      <td>dog</td>\n",
       "      <td>https://www.hdnicewallpapers.com/Walls/Big/Dog/Cute_Dog_Puppy_Image.jpg</td>\n",
       "    </tr>\n",
       "    <tr>\n",
       "      <th>13</th>\n",
       "      <td>scraped_images/dog/ccf73ae866.jpg</td>\n",
       "      <td>dog</td>\n",
       "      <td>https://img.chewy.com/is/image/catalog/116134_PT1._AC_SL1500_V1545246887_.jpg</td>\n",
       "    </tr>\n",
       "    <tr>\n",
       "      <th>14</th>\n",
       "      <td>scraped_images/dog/e9aac69517.jpg</td>\n",
       "      <td>dog</td>\n",
       "      <td>https://www.portsmouth.co.uk/webimg/b25lY21zOjFlZTQxM2VhLWVkMjEtNGM1MS05N2QyLTA5ZWU5ZDNjOGI3MTpkZmIzYmJhNi1iN2E1LTQ5OTUtYjg5Yi1kZjk3MzY2NzAzNTI=.jpg?width=2048&amp;enable=upscale</td>\n",
       "    </tr>\n",
       "    <tr>\n",
       "      <th>15</th>\n",
       "      <td>scraped_images/dog/766000910b.jpg</td>\n",
       "      <td>dog</td>\n",
       "      <td>https://wallup.net/wp-content/uploads/2018/10/07/519462-rottweiler-dog-dogs.jpg</td>\n",
       "    </tr>\n",
       "    <tr>\n",
       "      <th>16</th>\n",
       "      <td>scraped_images/dog/728c8698ca.jpg</td>\n",
       "      <td>dog</td>\n",
       "      <td>https://wallup.net/wp-content/uploads/2018/10/06/364377-puppies-puppy-baby-dog-dogs-41.jpg</td>\n",
       "    </tr>\n",
       "    <tr>\n",
       "      <th>17</th>\n",
       "      <td>scraped_images/dog/5b4e30ce21.jpg</td>\n",
       "      <td>dog</td>\n",
       "      <td>https://www.vets4pets.com/siteassets/dental-webheaders-dog---oct-20.jpg?w=585&amp;scale=down</td>\n",
       "    </tr>\n",
       "    <tr>\n",
       "      <th>18</th>\n",
       "      <td>scraped_images/horse/54d20582ec.jpg</td>\n",
       "      <td>horse</td>\n",
       "      <td>https://pixy.org/src2/578/5788753.jpg</td>\n",
       "    </tr>\n",
       "    <tr>\n",
       "      <th>19</th>\n",
       "      <td>scraped_images/horse/138ab98b77.jpg</td>\n",
       "      <td>horse</td>\n",
       "      <td>https://www.thesprucepets.com/thmb/LzswpEBNy-jqLTM-pui1Wk2Cdws=/5500x3454/filters:fill(auto,1)/GettyImages-1194308039-aefebed4140c4c61a0267e681f4272c9.jpg</td>\n",
       "    </tr>\n",
       "    <tr>\n",
       "      <th>20</th>\n",
       "      <td>scraped_images/horse/4f694a7ca8.jpg</td>\n",
       "      <td>horse</td>\n",
       "      <td>https://www.hdnicewallpapers.com/Walls/Big/Horse/Two_Beautiful_Brown_Horse_Image.jpg</td>\n",
       "    </tr>\n",
       "    <tr>\n",
       "      <th>21</th>\n",
       "      <td>scraped_images/horse/e53be8dea6.jpg</td>\n",
       "      <td>horse</td>\n",
       "      <td>https://www.wallpapers13.com/wp-content/uploads/2016/02/Beautiful-brown-horse-the-grass-horses_poster-1680x1050.jpg</td>\n",
       "    </tr>\n",
       "    <tr>\n",
       "      <th>22</th>\n",
       "      <td>scraped_images/horse/39e6833389.jpg</td>\n",
       "      <td>horse</td>\n",
       "      <td>https://netstorage-yen.akamaized.net/images/db286ace774a33ed.jpg</td>\n",
       "    </tr>\n",
       "    <tr>\n",
       "      <th>23</th>\n",
       "      <td>scraped_images/horse/9f3ea2cc68.jpg</td>\n",
       "      <td>horse</td>\n",
       "      <td>https://wallup.net/wp-content/uploads/2018/10/09/468925-horses-horse.jpg</td>\n",
       "    </tr>\n",
       "    <tr>\n",
       "      <th>24</th>\n",
       "      <td>scraped_images/horse/3fa874e935.jpg</td>\n",
       "      <td>horse</td>\n",
       "      <td>http://thestyleinspiration.com/wp-content/uploads/2019/10/Arabian-Horses-.jpg</td>\n",
       "    </tr>\n",
       "  </tbody>\n",
       "</table>\n",
       "</div>"
      ],
      "text/plain": [
       "                              file_path  ...                                                                                                                                                                        orig_url\n",
       "0     scraped_images/cat/7f429fb7c2.jpg  ...          https://www.thesprucepets.com/thmb/5tDHikYVxrJXwQCgVhacYo5PS4g=/2121x1414/filters:fill(auto,1)/Madelein_WolfGettyImages-845007724-cff4995e51a749e0a69f529c75447f5b.jpg\n",
       "1     scraped_images/cat/384ed12bf5.jpg  ...                                                                                              https://d.newsweek.com/en/full/1504969/black-cat-kitten-pet-animal-stock-getty.jpg\n",
       "2     scraped_images/cat/6ea6b56a70.jpg  ...                                                                                                                  https://ukmadcat.com/wp-content/uploads/2019/04/sleepy-cat.jpg\n",
       "3     scraped_images/cat/9f56fe3cc7.jpg  ...                                                                                                                           https://pbs.twimg.com/media/DUfDNvTVQAA2osS.jpg:large\n",
       "4     scraped_images/cat/dbf944bb39.jpg  ...                                                                                                       http://www.trbimg.com/img-5a68a878/turbine/ct-grumpy-cat-lawsuit-20180124\n",
       "5     scraped_images/cat/e221f55e4e.jpg  ...                                                                                                            https://wallup.net/wp-content/uploads/2015/06/Goldish-cat-smiles.jpg\n",
       "6     scraped_images/cat/20c65dbd42.jpg  ...                                                                                                               https://pixnio.com/free-images/2017/09/26/2017-09-26-07-19-47.jpg\n",
       "7     scraped_images/cat/df448c01e0.jpg  ...                                                                                                                    http://pulpbits.net/wp-content/uploads/2014/01/tabby-cat.jpg\n",
       "8     scraped_images/cat/10448ff709.jpg  ...                                                                                                   https://petsnurturing.com/wp-content/uploads/2018/08/Spotted-cat-breeds-4.jpg\n",
       "9     scraped_images/dog/24dd31c9c4.jpg  ...                                                                                                        https://wallup.net/wp-content/uploads/2014/10/animal/Cute_Golden_Dog.jpg\n",
       "10    scraped_images/dog/2d03121fbf.jpg  ...                                                                                                https://wallup.net/wp-content/uploads/2018/10/07/467084-friend-the-dog-husky.jpg\n",
       "11    scraped_images/dog/1a890e08f2.jpg  ...                                                                                                     http://wallup.net/wp-content/uploads/2016/01/227050-animals-dog-pebbles.jpg\n",
       "12    scraped_images/dog/ca2fa0579f.jpg  ...                                                                                                         https://www.hdnicewallpapers.com/Walls/Big/Dog/Cute_Dog_Puppy_Image.jpg\n",
       "13    scraped_images/dog/ccf73ae866.jpg  ...                                                                                                   https://img.chewy.com/is/image/catalog/116134_PT1._AC_SL1500_V1545246887_.jpg\n",
       "14    scraped_images/dog/e9aac69517.jpg  ...  https://www.portsmouth.co.uk/webimg/b25lY21zOjFlZTQxM2VhLWVkMjEtNGM1MS05N2QyLTA5ZWU5ZDNjOGI3MTpkZmIzYmJhNi1iN2E1LTQ5OTUtYjg5Yi1kZjk3MzY2NzAzNTI=.jpg?width=2048&enable=upscale\n",
       "15    scraped_images/dog/766000910b.jpg  ...                                                                                                 https://wallup.net/wp-content/uploads/2018/10/07/519462-rottweiler-dog-dogs.jpg\n",
       "16    scraped_images/dog/728c8698ca.jpg  ...                                                                                      https://wallup.net/wp-content/uploads/2018/10/06/364377-puppies-puppy-baby-dog-dogs-41.jpg\n",
       "17    scraped_images/dog/5b4e30ce21.jpg  ...                                                                                        https://www.vets4pets.com/siteassets/dental-webheaders-dog---oct-20.jpg?w=585&scale=down\n",
       "18  scraped_images/horse/54d20582ec.jpg  ...                                                                                                                                           https://pixy.org/src2/578/5788753.jpg\n",
       "19  scraped_images/horse/138ab98b77.jpg  ...                      https://www.thesprucepets.com/thmb/LzswpEBNy-jqLTM-pui1Wk2Cdws=/5500x3454/filters:fill(auto,1)/GettyImages-1194308039-aefebed4140c4c61a0267e681f4272c9.jpg\n",
       "20  scraped_images/horse/4f694a7ca8.jpg  ...                                                                                            https://www.hdnicewallpapers.com/Walls/Big/Horse/Two_Beautiful_Brown_Horse_Image.jpg\n",
       "21  scraped_images/horse/e53be8dea6.jpg  ...                                                             https://www.wallpapers13.com/wp-content/uploads/2016/02/Beautiful-brown-horse-the-grass-horses_poster-1680x1050.jpg\n",
       "22  scraped_images/horse/39e6833389.jpg  ...                                                                                                                https://netstorage-yen.akamaized.net/images/db286ace774a33ed.jpg\n",
       "23  scraped_images/horse/9f3ea2cc68.jpg  ...                                                                                                        https://wallup.net/wp-content/uploads/2018/10/09/468925-horses-horse.jpg\n",
       "24  scraped_images/horse/3fa874e935.jpg  ...                                                                                                   http://thestyleinspiration.com/wp-content/uploads/2019/10/Arabian-Horses-.jpg\n",
       "\n",
       "[25 rows x 3 columns]"
      ]
     },
     "execution_count": null,
     "metadata": {},
     "output_type": "execute_result"
    }
   ],
   "source": [
    "df = img_scrape(search_terms, target_path=target_dir, num_images=num_images, verbose=True)\n",
    "print(len(df),\"images\")\n",
    "df"
   ]
  },
  {
   "cell_type": "markdown",
   "metadata": {},
   "source": [
    "Let's see what's been saved to disk:"
   ]
  },
  {
   "cell_type": "code",
   "execution_count": null,
   "metadata": {},
   "outputs": [
    {
     "name": "stdout",
     "output_type": "stream",
     "text": [
      "scraped_images/cat:\n",
      "10448ff709.jpg\t384ed12bf5.jpg\t7f429fb7c2.jpg\tdbf944bb39.jpg\te221f55e4e.jpg\n",
      "20c65dbd42.jpg\t6ea6b56a70.jpg\t9f56fe3cc7.jpg\tdf448c01e0.jpg\n",
      "\n",
      "scraped_images/dog:\n",
      "1a890e08f2.jpg\t2d03121fbf.jpg\t728c8698ca.jpg\tca2fa0579f.jpg\te9aac69517.jpg\n",
      "24dd31c9c4.jpg\t5b4e30ce21.jpg\t766000910b.jpg\tccf73ae866.jpg\n",
      "\n",
      "scraped_images/horse:\n",
      "138ab98b77.jpg\t3fa874e935.jpg\t54d20582ec.jpg\te53be8dea6.jpg\n",
      "39e6833389.jpg\t4f694a7ca8.jpg\t9f3ea2cc68.jpg\n"
     ]
    }
   ],
   "source": [
    "!ls {target_dir}/*"
   ]
  },
  {
   "cell_type": "markdown",
   "metadata": {},
   "source": [
    "Now we should probably inspect the data to see if it looks good or if we accidentally grabbed images we don't want. \n",
    "\n",
    "### Extra: Interactive Image Browser (Slider)"
   ]
  },
  {
   "cell_type": "code",
   "execution_count": null,
   "metadata": {},
   "outputs": [
    {
     "name": "stdout",
     "output_type": "stream",
     "text": [
      "Loaded 9 images for cat\n",
      "Loaded 9 images for dog\n",
      "Loaded 7 images for horse\n"
     ]
    }
   ],
   "source": [
    "# work in progress\n",
    "class Category():\n",
    "    def __init__(self):\n",
    "        self.images = []\n",
    "        self.urls = []\n",
    "\n",
    "    def __len__(self):\n",
    "        ni, nu = len(self.images), len(self.urls)\n",
    "        #assert ni==nu\n",
    "        return ni\n",
    "\n",
    "# Load images from disk\n",
    "dataset = {key: Category() for key in search_terms}\n",
    "for term in search_terms:\n",
    "    dir = term.replace(' ','_')  # spaces to underscores for disk access\n",
    "    dir = f'{target_dir}/{dir}/'\n",
    "    dataset[term].images = [Image.open(item) for i in [glob.glob(f'{dir}*.{ext}') for ext in [\"jpg\",\"gif\",\"png\",\"tga\"]] for item in i]\n",
    "    print(f'Loaded {len(dataset[term].images)} images for {term}')"
   ]
  },
  {
   "cell_type": "code",
   "execution_count": null,
   "metadata": {},
   "outputs": [],
   "source": [
    "%matplotlib inline"
   ]
  },
  {
   "cell_type": "code",
   "execution_count": null,
   "metadata": {},
   "outputs": [],
   "source": [
    "#export\n",
    "def browse_images(dataset):\n",
    "    print(\"Select the class from the drop-down, and the image by moving the slider with the mouse or the arrow keys.\")\n",
    "    @interact(term=search_terms)\n",
    "    def _browse_images(term):\n",
    "        n = len(dataset[term])\n",
    "        def view_image(i):\n",
    "            plt.imshow(dataset[term].images[i], cmap=plt.cm.gray_r, interpolation='nearest')\n",
    "            plt.show()\n",
    "        interact(view_image, i=(0,n-1))"
   ]
  },
  {
   "cell_type": "code",
   "execution_count": null,
   "metadata": {},
   "outputs": [
    {
     "name": "stdout",
     "output_type": "stream",
     "text": [
      "Select the class from the drop-down, and the image by moving the slider with the mouse or the arrow keys.\n"
     ]
    },
    {
     "data": {
      "application/vnd.jupyter.widget-view+json": {
       "model_id": "c9193788c1ea41729d013d772d9752b4",
       "version_major": 2,
       "version_minor": 0
      },
      "text/plain": [
       "interactive(children=(Dropdown(description='term', options=('cat', 'dog', 'horse'), value='cat'), Output()), _…"
      ]
     },
     "metadata": {},
     "output_type": "display_data"
    }
   ],
   "source": [
    "browse_images(dataset)"
   ]
  },
  {
   "cell_type": "markdown",
   "metadata": {},
   "source": [
    "Let's make a bunch of thumbnails. So, for every file in target_path, load the image, shrink it, and save it to a similar filename in a similar directory structure "
   ]
  },
  {
   "cell_type": "code",
   "execution_count": null,
   "metadata": {},
   "outputs": [],
   "source": [
    "#export \n",
    "\n",
    "try:\n",
    "    from google.colab import drive\n",
    "    IN_COLAB = True\n",
    "except:\n",
    "    IN_COLAB = False\n",
    "\n",
    "def get_thumb_urls(\n",
    "    image_paths=None,                 # files we want; \"None\" = all in images_dir\n",
    "    images_dir:str=\"scraped_images\",  # directory of full size images, no / on end\n",
    "    size:tuple=(100,100),             # max dims of thumbnail; see PIL Image.thumbnail()\n",
    "    verbose:bool=False                # whether to print status messages or not\n",
    "    ) -> list:\n",
    "    \"\"\"\n",
    "    This will save thumbnails of images and provide 'hosted' urls to them if on Colab\n",
    "    \"\"\"\n",
    "\n",
    "    thumbs_copy_dir = images_dir + \"_thumbs\"\n",
    "    if IN_COLAB:\n",
    "        print(\"Generating (URLS of) thumbnail images...\")\n",
    "        drive.mount('/gdrive')\n",
    "        thumbs_copy_dir = '/gdrive/My Drive/'+ thumbs_copy_dir\n",
    "    shutil.rmtree(thumbs_copy_dir, ignore_errors=True)      # clear out thumbs dir\n",
    "\n",
    "    # get all the image filenames with full paths\n",
    "    if image_paths is None:\n",
    "        image_paths = [path for path in Path(images_dir).resolve().rglob('*') if path.suffix.lower() in ['.jpg', '.png']]\n",
    "    \n",
    "    # create the thumbnails and save them to Drive \n",
    "    thumb_paths = []\n",
    "    for fname in image_paths:\n",
    "        fname = Path(fname) # just as a precaution\n",
    "        tname = Path(thumbs_copy_dir) / fname.parent.name / fname.name \n",
    "        tname.parent.mkdir(parents=True, exist_ok=True)  # create the parent directories before writing files\n",
    "        with Image.open(fname) as im: \n",
    "            im.thumbnail(size)\n",
    "            if verbose: print(f\"Attempting to save {tname}\")\n",
    "            try:\n",
    "                im.save(tname)\n",
    "            except OSError:  # sometimes getting jpg save errors, try those as png \n",
    "                tname = Path(str(tname) +'.png')\n",
    "                im.save(tname)\n",
    "        thumb_paths.append(tname)\n",
    "\n",
    "    if not IN_COLAB: return [str(t) for t in thumb_paths]  # For local runs, need to un-Path in order to serialize JSON\n",
    "        \n",
    "    print(f\"Thumbnails saved to Google Drive in {thumbs_copy_dir}/\\nWaiting on Google Drive until URLs are ready.\\n\")\n",
    "\n",
    "    # get thumbnail URLs from Drive (might have to wait a bit for them)\n",
    "    urls = []\n",
    "    for tp in thumb_paths:\n",
    "        count, timeout, fid = 0, 60, \"local-225\"  # need a loop in case Drive needs time to generate FileID\n",
    "        while ('local-' in fid) and (count < timeout):\n",
    "            fid, count = subprocess.getoutput(f\"xattr -p 'user.drive.id' '{tp}' \"), count+1\n",
    "            if 'local-' in fid: time.sleep(1)      # url still isn't ready; wait a second\n",
    "        if 'local-' in fid: \n",
    "            print(f\"Error, unable to generate URL for {fid}\")\n",
    "        else:                                    \n",
    "            urls.append(f'https://drive.google.com/uc?id={fid}')\n",
    "            if verbose: print(f\"url = {urls[-1]}\")\n",
    "            \n",
    "    return urls"
   ]
  },
  {
   "cell_type": "code",
   "execution_count": null,
   "metadata": {},
   "outputs": [
    {
     "name": "stdout",
     "output_type": "stream",
     "text": [
      "Generating (URLS of) thumbnail images...\n",
      "Mounted at /gdrive\n",
      "Thumbnails saved to Google Drive in /gdrive/My Drive/scraped_images_thumbs/\n",
      "Waiting on Google Drive until URLs are ready.\n",
      "\n",
      "urls =  ['https://drive.google.com/uc?id=102OW28_qsr7vr0dfHeUUQM0yeox2MIL7', 'https://drive.google.com/uc?id=100WfSNpv6qg1NL7yRlHyac8TfMzANURl', 'https://drive.google.com/uc?id=1-zMDtc2ewp-Gx_VX7GZP_ukLG6fVyerR', 'https://drive.google.com/uc?id=1-ubtGLq03kIwFX51BoNY2w_Wr0gtZAOY', 'https://drive.google.com/uc?id=1-jdjUNmo7ICJc82YJrmZ1jnJ_u2lJY5Y', 'https://drive.google.com/uc?id=1-hObfXam8rLUpAVc-XvYaDXxdTzYBHlz', 'https://drive.google.com/uc?id=1-hOQukQaQqh_g1l80NIvPHaV0VYMPkyR', 'https://drive.google.com/uc?id=1-gbieUEfx3n_-ExMDtyKA3JaTkoxSUq4', 'https://drive.google.com/uc?id=1-gUUCLLKCGszZonChgYarKTLTZvpL4Qp', 'https://drive.google.com/uc?id=1-e0uprmgXCcr9nMMOmMNftnE3lSHGZPT', 'https://drive.google.com/uc?id=1-cm-llHr2xXGt7DUAWpFHzUwHqJB_WBq', 'https://drive.google.com/uc?id=1-c4UeyEk03VGLEtXNmwLJGOekqWDbRb0', 'https://drive.google.com/uc?id=1-WYmeLuXIeKKcWUxG7QZsGjlKZZyTqng', 'https://drive.google.com/uc?id=1-UuBZBEJ9LPSSDqCMCsnllP0W56wufbh', 'https://drive.google.com/uc?id=1-KHDIA9eJRegleHVxKOlvQ7bEfZEWHhO', 'https://drive.google.com/uc?id=10ZozC-cipQ5keduu-JK8ATU5NQx4TOi9', 'https://drive.google.com/uc?id=10Y_G9ykwMPAGiDJAVyZGwjMQaHzqFt6z', 'https://drive.google.com/uc?id=10UOWNo0NJEJKiY4PFHUWsTBeDG4odJLI', 'https://drive.google.com/uc?id=10NybjJrL5HkdikRfDvRiYLQ1KXb4Rx27', 'https://drive.google.com/uc?id=10Jj3fiNYnyNTQsghBE9kw9K9y7sycvqN', 'https://drive.google.com/uc?id=10GUVAnxBqV9k1qCcsevUt-YuXq_Vsf1o', 'https://drive.google.com/uc?id=10EhwPojR4DIScL_ExFzIRNR8NyvTro2a', 'https://drive.google.com/uc?id=109l59UBM9RkXs1qX4LwjMtg9juVamFJo', 'https://drive.google.com/uc?id=107VajqHPJKRpUqWfylMFQAjvnCxlslsa', 'https://drive.google.com/uc?id=10754-RJ9mC23hWXvfwHtqPMOgxKWQSPj']\n"
     ]
    },
    {
     "data": {
      "text/html": [
       "<img src=https://drive.google.com/uc?id=102OW28_qsr7vr0dfHeUUQM0yeox2MIL7>"
      ],
      "text/plain": [
       "<IPython.core.display.HTML object>"
      ]
     },
     "execution_count": null,
     "metadata": {},
     "output_type": "execute_result"
    }
   ],
   "source": [
    "urls = get_thumb_urls(images_dir=target_dir)\n",
    "print(\"urls = \",urls)\n",
    "url = urls[0] if IN_COLAB else 'https://drive.google.com/uc?id=1owIYMyW7yaYlZ4QcJ8P3iIxkl_mCN-GX'\n",
    "HTML(f\"<img src={url}>\")"
   ]
  },
  {
   "cell_type": "code",
   "execution_count": null,
   "metadata": {},
   "outputs": [],
   "source": [
    "#export \n",
    "def exhibit_urls(targ, labels=['cat','dog','horse']):\n",
    "    \"\"\"grabs a set of urls, in order of images that match the labels corresponding to targets\"\"\"\n",
    "    \n",
    "    dim = targ.max()+1\n",
    "    url_store = [[] for t in range(dim)]\n",
    "    for t in range(dim): # for each set of targets, scrape that many urls for the label\n",
    "        label, n = labels[t], np.sum(targ == t )# count how many of each target there are\n",
    "        url_store[t] = search_images_ddg(label)\n",
    "    return [ url_store[targ[t]].pop(0) for t in range(len(targ)) ] # supply a url matching each target"
   ]
  },
  {
   "cell_type": "code",
   "execution_count": null,
   "metadata": {},
   "outputs": [],
   "source": [
    "prob, targ = calc_prob(n=400)\n",
    "urls = exhibit_urls(targ, ['cat','dog','horse'])\n",
    "assert len(targ) == len(urls)"
   ]
  },
  {
   "cell_type": "code",
   "execution_count": null,
   "metadata": {},
   "outputs": [],
   "source": [
    "# export \n",
    "\n",
    "# actually here's a newer interface that I prefer\n",
    "def scrape_for_me(dl_path, labels, search_suffix, erase_dir=True, max_n=100):\n",
    "    if erase_dir:\n",
    "        shutil.rmtree(dl_path, ignore_errors=True)\n",
    "    path = Path(dl_path)\n",
    "    if not path.exists(): path.mkdir()\n",
    "    for o in labels:            # scrape images off the web\n",
    "        search_term = (f'{o} {search_suffix}').strip()\n",
    "        dest = (path/o)\n",
    "        dest.mkdir(exist_ok=True)\n",
    "        urls = search_images_ddg(f'{search_term}', max_n=max_n) \n",
    "        urls = [ x for x in urls if (\"magpies\" not in x) and (\"charliebears\" not in x) ]   # kludge for now to keep download_images from hanging\n",
    "        print(f\"{search_term}: Got {len(urls)} image URLs. Downloading...\")\n",
    "        print(\"   urls = \",urls)\n",
    "        download_images(dest, urls=urls, preserve_filename=False)\n",
    "        print(\"    Images downloaded.\")\n",
    "        \n",
    "    fns = get_image_files(path)     # list image filenames\n",
    "    failed = verify_images(fns)     # check if any are unloadable\n",
    "\n",
    "    # remove what's unloadable\n",
    "    failed.map(Path.unlink);\n",
    "    if failed != []:\n",
    "        _ = [fns.remove(f) for f in failed]\n",
    "\n",
    "    # Extra: To avoid Transparency warnings, convert PNG images to RGBA, from https://forums.fast.ai/t/errors-when-training-the-bear-image-classification-model/83422/9\n",
    "    converted = L()\n",
    "    for image in fns:\n",
    "        if '.png' in str(image):\n",
    "            im = Image.open(image)\n",
    "            converted.append(image)  # old file name before resaving\n",
    "            im.convert(\"RGBA\").save(f\"{image}2.png\")    \n",
    "    converted.map(Path.unlink); # delete originals\n",
    "    print(f\"After checking images for issues, {len(get_image_files(path))} (total) images remain.\")\n",
    "    return path     # and return a pathlib object pointing to image dir"
   ]
  },
  {
   "cell_type": "code",
   "execution_count": null,
   "metadata": {},
   "outputs": [
    {
     "name": "stdout",
     "output_type": "stream",
     "text": [
      "grizzly bear: Got 30 image URLs. Downloading...\n",
      "   urls =  ['http://animalia-life.com/data_images/grizzly-bear/grizzly-bear5.jpg', 'https://ewscripps.brightspotcdn.com/dims4/default/62a4e0f/2147483647/strip/true/crop/1280x720+0+0/resize/1280x720!/quality/90/?url=http:%2F%2Fewscripps-brightspot.s3.amazonaws.com%2F36%2Fec%2F6e01f9b94305b1d3578f2458629b%2Fgrizzly-bear.png', 'https://wallsdesk.com/wp-content/uploads/2017/01/Grizzly-Bear-Wallpapers-HD.jpg', 'https://reidparkzoo.org/wp-content/uploads/2013/09/grzbear2812a.jpg', 'https://www.animalfactsencyclopedia.com/images/grizzlybearstanding.jpg.pagespeed.ce.7jsWfY9XXY.jpg', 'http://mediad.publicbroadcasting.net/p/kufm/files/styles/x_large/public/201606/grizzly_PD.jpg', 'https://wallsdesk.com/wp-content/uploads/2017/01/Grizzly-Bear-Desktop-Wallpaper-.jpg', 'https://www.conservationnw.org/wp-content/uploads/2017/10/grizzly-bears-1280x950.jpg', 'https://www.montanaoutdoor.com/wp-content/uploads/2018/02/Grizzly-King-FEAT.jpg', 'https://1.bp.blogspot.com/-l-Y6zD_KF6o/UQN3jPgigAI/AAAAAAAAFcU/HOKJWQmNjo4/s1600/Grizzly+Bear-2013-0pic-05.jpg', 'https://www.gannett-cdn.com/presto/2018/09/13/PGRF/8f82d5b2-da81-4f67-8d51-dbfe884c23a5-Grizzly.jpg?crop=2999,1688,x0,y0&width=3200&height=1680&fit=bounds', 'https://i0.wp.com/www.commonsenseevaluation.com/wp-content/uploads/2013/08/Bear.jpg', 'https://www.conservationnw.org/wp-content/uploads/2020/03/JSW_6993-scaled.jpg', 'http://www.photos-public-domain.com/wp-content/uploads/2012/03/grizzly-bear.jpg', 'https://wildlifeimages.org/wp-content/uploads/2016/09/DSC1704.jpg', 'https://media.salon.com/2014/03/Grizzly-Bear.jpg', 'https://a57.foxnews.com/a57.foxnews.com/static.foxnews.com/foxnews.com/content/uploads/2018/09/640/320/1862/1048/Grizzly-iStock.jpg?ve=1&tl=1?ve=1&tl=1', 'http://endangered.org/cms/assets/uploads/2014/03/00156.jpg', 'https://www.alloutdoor.com/wp-content/uploads/2019/08/Grizzly_Bear_Ursus_arctos_ssp..jpg', 'https://wallsdesk.com/wp-content/uploads/2017/01/Grizzly-Bear-Background-.jpg', 'https://www.columbiatribune.com/storyimage/MO/20171003/NEWS/171009653/AR/0/AR-171009653.jpg', 'https://i0.wp.com/rangerrick.org/wp-content/uploads/2018/04/RRMAR13_6-11Grizzlies.jpg?fit=1156%2C650&ssl=1', 'https://wallsdesk.com/wp-content/uploads/2017/01/Grizzly-Bear-Wallpaper-.jpg', 'https://wallpapertag.com/wallpaper/full/9/a/0/437133-new-grizzly-bear-backgrounds-1920x1200-for-meizu.jpg', 'http://mediad.publicbroadcasting.net/p/kufm/files/styles/x_large/public/201603/grizzly-bear_Nathan-Rupert-CC-BY-NC-ND_0.jpg', 'http://1.bp.blogspot.com/_VgXaDXiFvX4/TOLc83-0DII/AAAAAAAAA9Y/aduLWx2jH7w/s1600/grizzly-bear.jpg', 'https://gohunt-assets-us-west-2.s3.amazonaws.com/wyoming-grizzly-bear-og_0.jpg', 'https://d3d0lqu00lnqvz.cloudfront.net/media/media/897b2e5d-6d4c-40fa-bbe8-6829455747e2.jpg', 'https://tetonvalleylodge.com/wp-content/uploads/2015/04/grizzly-bear-idaho.jpg', 'https://s1.ibtimes.com/sites/www.ibtimes.com/files/styles/embed/public/2017/11/20/grizzly-bear.jpg']\n",
      "    Images downloaded.\n",
      "black bear: Got 30 image URLs. Downloading...\n",
      "   urls =  ['https://www.gulflive.com/resizer/XxMMGfEvOQQAVOEKfieknpQOIv8=/1280x0/smart/advancelocal-adapter-image-uploads.s3.amazonaws.com/image.gulflive.com/home/gulf-media/width2048/img/news_impact/photo/bears-threatened-fbdfb579fa67c166.jpg', 'https://www.michiganrvandcampgrounds.org/wp-content/uploads/2018/06/35595163_l.jpg', 'http://blog.healthywildlife.ca/wp-content/uploads/2016/07/black-bear-hg-1-of-1.jpg', 'https://www.wallpapersdsc.net/wp-content/uploads/2017/10/Black-Bear-Background.jpg', 'https://storage.googleapis.com/afs-prod/media/media:c1a9aa6b7050465d83977305953495aa/3000.jpeg', 'http://1.bp.blogspot.com/--qWQbcp4kPc/UzGzfblUn8I/AAAAAAAACXo/DKjv6QHIxjg/s1600/American_Black_Bear.JPG', 'http://naturalbridgezoo.com/wp-content/uploads/2017/05/BB1-1.jpg', 'http://www.stgeorgeutah.com/wp-content/uploads/2015/11/lynn_11-22-2011_black_bear_1.jpg', 'https://www.gannett-cdn.com/presto/2019/05/08/PASH/9be97cd2-c85d-4eb6-a503-68b17b29ce94-NC_Bear_study_NO27_resting_after_work_up.jpg?crop=639,359,x0,y23&width=3200&height=1680&fit=bounds', 'https://www.stgeorgeutah.com/wp-content/uploads/2015/01/lynn_11-22-2011_black_bear_6-1.jpg', 'https://www.greatswamp.org/wp-content/uploads/2016/01/black-bear.jpg', 'https://www.theintell.com/storyimage/PA/20190610/NEWS/190619908/AR/0/AR-190619908.jpg', 'https://cottagelife.com/wp-content/uploads/2017/07/shutterstock_503744119.jpg', 'https://wildlifehelp.org/sites/default/files/images/species/black%20bear%20Hal%20Korber.jpg', 'https://www.crozetgazette.com/wp-content/uploads/2018/06/iStock-153562011.jpg', 'https://cdn1.theweek.co.uk/sites/theweek/files/2016/10/161026_black_bear.jpg', 'https://texnat.tamu.edu/files/2018/07/IMG_1573.jpg', 'http://bearsmartdurango.org/wp-content/uploads/2013/06/100_0642.jpg', 'https://www.gannett-cdn.com/-mm-/98e9eb0055148d8550b3a7d264f19fd6462e6062/c=0-213-4288-2636/local/-/media/2017/03/22/CarolinaGroup/Asheville/636257813777562324-Black-bear-Getty-images.jpg?width=3200&height=1680&fit=crop', 'http://strangesounds.org/wp-content/uploads/2014/08/bear-cubs-photo.jpg', 'https://www.poconorecord.com/storyimage/PR/20161114/NEWS/161119826/AR/0/AR-161119826.jpg', 'https://cdn2.bigcommerce.com/server100/6ca92/product_images/uploaded_images/florida-black-bear.jpg?t=1430242234', 'https://www.gannett-cdn.com/-mm-/40756a948d5a0edcc7ce6d0e16b133540995c9c8/c=0-138-1997-1266/local/-/media/2017/03/06/JacksonMS/JacksonMS/636243918786987260-0307bear01.jpg?width=3200&height=1680&fit=crop', 'http://elelur.com/data_images/mammals/asian-black-bear/asian-black-bear-05.jpg', 'https://cottagelife.com/wp-content/uploads/2019/02/Cottage-Life-Black-Bear-cub.jpg', 'https://animalhype.com/wp-content/uploads/2019/12/How-Fast-Do-Black-Bears-Run-1024x682.jpg', 'https://1.bp.blogspot.com/-RikM2UDTveI/Ul6J_n4d5jI/AAAAAAAABZE/7JsEKLxG2z4/s1600/BlackBear.jpg', 'https://mediad.publicbroadcasting.net/p/wvtf/files/styles/x_large/public/201607/AP_608334627084.jpg', 'https://www.gannett-cdn.com/-mm-/2b06f05d8e31b4112ec2ecbca6e9ef0db0cf4d0b/c=0-108-2125-1309/local/-/media/2016/05/18/Wilmington/Wilmington/635991906230694281-black-bear.jpg?width=3200&height=1680&fit=crop', 'http://1.bp.blogspot.com/-Jc2_QqcDTz4/UBjix7v9rjI/AAAAAAAAAMA/Hr67qTiw_I4/s1600/Black-Bear-02.jpg']\n",
      "    Images downloaded.\n",
      "teddy bear: Got 30 image URLs. Downloading...\n",
      "   urls =  ['https://wallsdesk.com/wp-content/uploads/2016/11/Teddy-Bear-Pictures.jpg', 'http://4.bp.blogspot.com/-eHNfcXAQlYo/UDd2i-24zQI/AAAAAAAAADo/MsnHiOzuljY/s1600/Teddy_Bear_90_flash.jpg', 'http://c.shld.net/rpx/i/s/i/spin/image/spin_prod_1099814412??hei=64&wid=64&qlt=50', 'https://primopromo.com.au/assets/Uploads/Teddy-Bear+Dark-Green.jpg', 'https://www.expressandstar.com/resizer/3RXHqe1t5HmSzK8ZdsIJdGc1yuQ=/1200x0/filters:quality(100)/arc-anglerfish-arc2-prod-expressandstar-mna.s3.amazonaws.com/public/2ZPDJ7XZE5ABTDWCQF537IPGAQ.jpg', 'http://www.photos-public-domain.com/wp-content/uploads/2010/12/cream_colored_teddy_bear.jpg', 'https://teddybears.co.uk/wp-content/uploads/2017/08/113413_113420_113437_web-2736x3648.jpg', 'https://cdn.shopify.com/s/files/1/2622/2548/products/wholesale-plush-in-a-rush-106-14242280636518_1200x.jpg?v=1597087632', 'https://teddybears.co.uk/wp-content/uploads/2017/09/113321.jpg', 'http://allpicts.in/wp-content/uploads/2015/10/Cute-Teddy-bear-with-Pink-roses.jpg', 'https://www.teddybearaustralia.com.au/wp-content/uploads/2018/09/FullSizeRender-6.jpg', 'https://www.sayitwithbears.co.uk/wp-content/uploads/2016/07/large-personalised-bonnie-honey-scaled.jpg', 'https://www.taylorherring.com/wp-content/uploads/2015/04/GiantTeddyBears-6.jpg', 'https://www.sippycupmom.com/wp-content/uploads/2017/09/NTBD-Exclusive-Bear.jpg', 'https://plazarealestate.com.au/wp-content/uploads/sites/131/2016/07/Teddy-Bears.jpg', 'https://www.worldofbears.com/acatalog/LG01.jpg', 'https://www.taylorherring.com/wp-content/uploads/2015/04/GiantTeddyBears-5-781x1020.jpg', 'http://cdn.shopify.com/s/files/1/2622/2548/products/wholesale-plush-in-a-rush-14271863685222_1200x.jpg?v=1586794398', 'https://wallsdesk.com/wp-content/uploads/2016/11/Teddy-Bear-Wallpapers.jpg', 'https://wallsdesk.com/wp-content/uploads/2016/11/Teddy-Bear-Photos.png', 'https://n1.sdlcdn.com/imgs/g/x/j/ToyHub-3-Feet-Super-Soft-SDL448496021-1-7dfe5.jpeg', 'http://www.photos-public-domain.com/wp-content/uploads/2011/01/teddy-bear-wearing-mardi-gras-beads.jpg', 'https://www.onlinetoys.com.au/23673/oscar-teddy-bear-27cm-beige.jpg', 'http://cdn.shopify.com/s/files/1/2622/2548/products/wholesale-plush-in-a-rush-14271861817446_1200x.jpg?v=1584804420', 'https://teddybears.co.uk/wp-content/uploads/2019/02/uk-2019-2736x3648.jpg', 'http://cdn.shopify.com/s/files/1/0704/5013/products/teddy-bears-gund-maxie-bear-beige-24-1_1024x1024.jpg?v=1544388291', 'https://teddybears.co.uk/wp-content/uploads/2015/09/petsy-28cm.jpg', 'https://4.bp.blogspot.com/-003EDE5jTOw/UDSwjEWC7oI/AAAAAAAADuQ/lA_x_5ECQAo/s1600/teddy-bear-14-hqwallpapers4u.co.cc.jpg', 'http://www.fitzulas.com/Merchant4c/graphics/00000001/2014/gund-4040161-xl.jpg', 'https://www.curiousmondo.com/images/2017/11/02/teddy-bear-making-04.jpg']\n",
      "    Images downloaded.\n",
      "After checking images for issues, 85 (total) images remain.\n"
     ]
    }
   ],
   "source": [
    "dl_path = 'scraped_images'  # where we're saving to\n",
    "labels = 'grizzly','black','teddy'  \n",
    "search_suffix = 'bear'\n",
    "path = scrape_for_me(dl_path, labels, search_suffix, max_n=30)"
   ]
  },
  {
   "cell_type": "code",
   "execution_count": null,
   "metadata": {},
   "outputs": [],
   "source": []
  }
 ],
 "metadata": {
  "kernelspec": {
   "display_name": "Python 3",
   "language": "python",
   "name": "python3"
  }
 },
 "nbformat": 4,
 "nbformat_minor": 0
}
