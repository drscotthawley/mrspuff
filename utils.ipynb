{
 "cells": [
  {
   "cell_type": "code",
   "execution_count": null,
   "metadata": {},
   "outputs": [],
   "source": [
    "# default_exp utils"
   ]
  },
  {
   "cell_type": "markdown",
   "metadata": {},
   "source": [
    "# utils\n",
    "\n",
    "> Utility routines."
   ]
  },
  {
   "cell_type": "code",
   "execution_count": null,
   "metadata": {},
   "outputs": [],
   "source": [
    "#hide\n",
    "from nbdev.showdoc import *"
   ]
  },
  {
   "cell_type": "code",
   "execution_count": null,
   "metadata": {},
   "outputs": [],
   "source": [
    "#export\n",
    "import numpy as np\n",
    "\n",
    "def softmax(x):\n",
    "    e_x = np.exp(x - np.max(x, axis=-1, keepdims=True)) \n",
    "    return e_x / e_x.sum(axis=-1, keepdims=True)\n",
    "\n",
    "def calc_prob(n=1000, s=2.5, dim=3):\n",
    "    \"s = 'scale': how strongly to 'push' the points towards the ends\"\n",
    "    logits = (np.random.rand(n,dim)*2-1)*s\n",
    "    prob = softmax(logits)\n",
    "    targ = np.argmax(prob, axis=1)  # target values\n",
    "    return prob, targ"
   ]
  },
  {
   "cell_type": "code",
   "execution_count": null,
   "metadata": {},
   "outputs": [],
   "source": [
    "np.random.seed(1)\n",
    "delta = 1e-6\n",
    "assert np.abs(softmax(np.random.rand(2,3)) - \\\n",
    "    np.array([[0.33185042, 0.44943301, 0.21871657],[0.37502195, 0.32098933, 0.30398872]]) ).sum() < delta"
   ]
  },
  {
   "cell_type": "code",
   "execution_count": null,
   "metadata": {},
   "outputs": [],
   "source": [
    "p, t = calc_prob(n=1,s=5,dim=4)\n",
    "assert np.abs(p - np.array([[0.02079038, 0.10225762, 0.17064115, 0.70631085]])).flatten().sum() < delta"
   ]
  },
  {
   "cell_type": "code",
   "execution_count": null,
   "metadata": {},
   "outputs": [],
   "source": []
  }
 ],
 "metadata": {
  "kernelspec": {
   "display_name": "Python 3",
   "language": "python",
   "name": "python3"
  }
 },
 "nbformat": 4,
 "nbformat_minor": 2
}
