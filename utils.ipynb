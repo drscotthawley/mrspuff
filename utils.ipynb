{
 "cells": [
  {
   "cell_type": "code",
   "execution_count": null,
   "metadata": {},
   "outputs": [],
   "source": [
    "# default_exp utils"
   ]
  },
  {
   "cell_type": "markdown",
   "metadata": {},
   "source": [
    "# utils\n",
    "\n",
    "> Utility routines."
   ]
  },
  {
   "cell_type": "code",
   "execution_count": null,
   "metadata": {},
   "outputs": [],
   "source": [
    "#hide\n",
    "from nbdev.showdoc import *"
   ]
  },
  {
   "cell_type": "code",
   "execution_count": null,
   "metadata": {},
   "outputs": [],
   "source": [
    "#export\n",
    "import numpy as np\n",
    "\n",
    "def softmax(x):\n",
    "    e_x = np.exp(x - x.max(axis=-1, keepdims=True)) \n",
    "    return e_x / e_x.sum(axis=-1, keepdims=True)"
   ]
  },
  {
   "cell_type": "code",
   "execution_count": null,
   "metadata": {},
   "outputs": [],
   "source": [
    "np.random.seed(1)\n",
    "delta = 1e-6\n",
    "assert np.abs(softmax(np.random.rand(2,3)) - \\\n",
    "    np.array([[0.33185042, 0.44943301, 0.21871657],[0.37502195, 0.32098933, 0.30398872]]) ).sum() < delta"
   ]
  },
  {
   "cell_type": "code",
   "execution_count": null,
   "metadata": {},
   "outputs": [],
   "source": [
    "#export \n",
    "def calc_prob(n=1000, s=2.5, dim=3):\n",
    "    \"s = 'scale': how strongly to 'push' the points towards the ends\"\n",
    "    logits = (np.random.rand(n,dim)*2-1)*s\n",
    "    prob = softmax(logits)\n",
    "    targ = np.argmax(prob, axis=1)  # target values\n",
    "    return prob, targ"
   ]
  },
  {
   "cell_type": "code",
   "execution_count": null,
   "metadata": {},
   "outputs": [],
   "source": [
    "p, t = calc_prob(n=1,s=5,dim=4)\n",
    "assert np.abs(p - np.array([[0.02079038, 0.10225762, 0.17064115, 0.70631085]])).flatten().sum() < delta"
   ]
  },
  {
   "cell_type": "code",
   "execution_count": null,
   "metadata": {},
   "outputs": [],
   "source": [
    "#export \n",
    "def one_hot(targs):\n",
    "    \"\"\"convert array of single target values to set of one-hot vectors\"\"\"\n",
    "    out = np.zeros((targs.size, targs.max()+1))\n",
    "    out[np.arange(targs.size),targs] = 1\n",
    "    return out "
   ]
  },
  {
   "cell_type": "code",
   "execution_count": null,
   "metadata": {},
   "outputs": [],
   "source": [
    "assert one_hot(np.random.randint(7,size=25)).shape == (25,7)\n",
    "assert np.abs(one_hot(np.array([1,0,3,2])) - np.array([[0,1,0,0],[1,0,0,0],[0,0,0,1],[0,0,1,0]])).sum() < delta"
   ]
  },
  {
   "cell_type": "code",
   "execution_count": null,
   "metadata": {},
   "outputs": [],
   "source": [
    "#export \n",
    "def on_colab():   # cf https://stackoverflow.com/questions/53581278/test-if-notebook-is-running-on-google-colab\n",
    "    \"\"\"Returns true if code is being executed on Colab, false otherwise\"\"\"\n",
    "    try:\n",
    "        return 'google.colab' in str(get_ipython())\n",
    "    except NameError:    # no get_ipython, so definitely not on Colab\n",
    "        return False "
   ]
  },
  {
   "cell_type": "markdown",
   "metadata": {},
   "source": [
    "Since we'll never run the test suite *on* Colab, the test should be negative:\n"
   ]
  },
  {
   "cell_type": "code",
   "execution_count": null,
   "metadata": {},
   "outputs": [],
   "source": [
    "assert not on_colab()"
   ]
  },
  {
   "cell_type": "code",
   "execution_count": null,
   "metadata": {},
   "outputs": [],
   "source": []
  }
 ],
 "metadata": {
  "kernelspec": {
   "display_name": "Python 3",
   "language": "python",
   "name": "python3"
  }
 },
 "nbformat": 4,
 "nbformat_minor": 0
}
